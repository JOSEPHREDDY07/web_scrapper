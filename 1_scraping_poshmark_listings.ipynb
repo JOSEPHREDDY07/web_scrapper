{
  "nbformat": 4,
  "nbformat_minor": 0,
  "metadata": {
    "kernelspec": {
      "display_name": "Python 3",
      "language": "python",
      "name": "python3"
    },
    "language_info": {
      "codemirror_mode": {
        "name": "ipython",
        "version": 3
      },
      "file_extension": ".py",
      "mimetype": "text/x-python",
      "name": "python",
      "nbconvert_exporter": "python",
      "pygments_lexer": "ipython3",
      "version": "3.7.3"
    },
    "colab": {
      "name": "1-scraping_poshmark_listings.ipynb",
      "provenance": [],
      "include_colab_link": true
    }
  },
  "cells": [
    {
      "cell_type": "markdown",
      "metadata": {
        "id": "view-in-github",
        "colab_type": "text"
      },
      "source": [
        "<a href=\"https://colab.research.google.com/github/JOSEPHREDDY07/web_scrapper/blob/master/1_scraping_poshmark_listings.ipynb\" target=\"_parent\"><img src=\"https://colab.research.google.com/assets/colab-badge.svg\" alt=\"Open In Colab\"/></a>"
      ]
    },
    {
      "cell_type": "code",
      "metadata": {
        "id": "eB4nJErI3p0l",
        "colab_type": "code",
        "colab": {
          "base_uri": "https://localhost:8080/",
          "height": 17
        },
        "outputId": "6d9a9ac0-289b-4b24-c0d6-32c717ed3308"
      },
      "source": [
        "from IPython.core.display import HTML\n",
        "\n",
        "HTML(\"\"\"\n",
        "<style>\n",
        "    div.text_cell_render, .CodeMirror pre, div.output {\n",
        "        font-size: 1.2em;\n",
        "        line-height: 1.2em;\n",
        "    }\n",
        "    .container {\n",
        "        width: 80%;\n",
        "    }\n",
        "</style>\n",
        "\"\"\")"
      ],
      "execution_count": 1,
      "outputs": [
        {
          "output_type": "execute_result",
          "data": {
            "text/html": [
              "\n",
              "<style>\n",
              "    div.text_cell_render, .CodeMirror pre, div.output {\n",
              "        font-size: 1.2em;\n",
              "        line-height: 1.2em;\n",
              "    }\n",
              "    .container {\n",
              "        width: 80%;\n",
              "    }\n",
              "</style>\n"
            ],
            "text/plain": [
              "<IPython.core.display.HTML object>"
            ]
          },
          "metadata": {
            "tags": []
          },
          "execution_count": 1
        }
      ]
    },
    {
      "cell_type": "markdown",
      "metadata": {
        "id": "6I4I6ABC3p0q",
        "colab_type": "text"
      },
      "source": [
        "# Scraping Poshmark\n",
        "\n",
        "This notebook walks through how to scrape listings from [Poshmark.com](https://poshmark.com/). Poshmark is a social commerce platform where people buy and sell new and used clothing, shoes and accessories.\n",
        "\n",
        "![preview](images/poshmark-preview.png)\n"
      ]
    },
    {
      "cell_type": "markdown",
      "metadata": {
        "id": "GuO0JEIU3p0r",
        "colab_type": "text"
      },
      "source": [
        "<br>"
      ]
    },
    {
      "cell_type": "markdown",
      "metadata": {
        "id": "70ubCepa3p0s",
        "colab_type": "text"
      },
      "source": [
        "## Webpages 101\n",
        "\n",
        "Websites are built using HTML and CSS. HTML provides the layout for websites. CSS provides the styling like font sizes, colors and spacing.\n",
        "\n",
        "Scraping takes advantage of the inherent structure on webpages. We find data by using the repeating HTML elements and CSS classes on pages. \n",
        "\n",
        "CSS classes are repeatable styling given to components with similar styling. For example, the item cards on Poshmark, all have the same exact look and feel, so their HTML code looks rather similar.\n",
        "\n",
        "Check out: [Diesel Jeans](https://poshmark.com/brand/Diesel-Men-Jeans?sort_by=added_desc) and use the Google Chrome Inspector.\n",
        "<br><br>\n",
        "\n",
        "![Diesel Code](images/diesel-code.png)"
      ]
    },
    {
      "cell_type": "markdown",
      "metadata": {
        "id": "JWcuAPm93p0s",
        "colab_type": "text"
      },
      "source": [
        "<br>"
      ]
    },
    {
      "cell_type": "markdown",
      "metadata": {
        "id": "t-r8rAvd3p0t",
        "colab_type": "text"
      },
      "source": [
        "## Scrape the denim listings\n",
        "\n",
        "We'll use `requests` to pull down the website. Then, we'll print out the response variable which contains the HTML code."
      ]
    },
    {
      "cell_type": "code",
      "metadata": {
        "id": "HGljVS1Q3p0u",
        "colab_type": "code",
        "colab": {
          "base_uri": "https://localhost:8080/",
          "height": 139
        },
        "outputId": "839c315a-c3f1-4bea-be81-34d4e0320f86"
      },
      "source": [
        "from requests import get\n",
        "\n",
        "url = \"https://poshmark.com/brand/Diesel-Men-Jeans?sort_by=added_desc\"\n",
        "response = get(url)\n",
        "print(response.text[:500])"
      ],
      "execution_count": 2,
      "outputs": [
        {
          "output_type": "stream",
          "text": [
            "<!DOCTYPE html>\n",
            "<html lang=\"en\" xml:lang=\"en\" xmlns=\"http://www.w3.org/1999/xhtml\" data-vue-meta-server-rendered=\"true\" data-vue-meta=\"%7B%22lang%22:%7B%221%22:%22en%22%7D,%22xml:lang%22:%7B%221%22:%22en%22%7D,%22xmlns%22:%7B%221%22:%22http://www.w3.org/1999/xhtml%22%7D,%22data-vue-meta-server-rendered%22:%7B%221%22:true%7D%7D\">\n",
            "  <head>\n",
            "    <!-- NREUM: (0) -->\n",
            "    <title>Diesel Jeans for Men - Poshmark</title>\n",
            "    <meta data-vue-meta=\"1\" charset=\"utf-8\"><meta data-vue-meta=\"1\" http-equiv=\"X-UA-\n"
          ],
          "name": "stdout"
        }
      ]
    },
    {
      "cell_type": "markdown",
      "metadata": {
        "id": "UEcJg23K3p0x",
        "colab_type": "text"
      },
      "source": [
        "We can use `beautifulsoup` to parse the raw HTML. This is a package specially made for accessing HTML elements."
      ]
    },
    {
      "cell_type": "code",
      "metadata": {
        "id": "15Gzpqx83p0y",
        "colab_type": "code",
        "colab": {
          "base_uri": "https://localhost:8080/",
          "height": 34
        },
        "outputId": "4e7b7d19-bea5-4357-a699-121f2f9e8f70"
      },
      "source": [
        "from bs4 import BeautifulSoup\n",
        "html_soup = BeautifulSoup(response.text, 'html.parser')\n",
        "type(html_soup)"
      ],
      "execution_count": 4,
      "outputs": [
        {
          "output_type": "execute_result",
          "data": {
            "text/plain": [
              "bs4.BeautifulSoup"
            ]
          },
          "metadata": {
            "tags": []
          },
          "execution_count": 4
        }
      ]
    },
    {
      "cell_type": "markdown",
      "metadata": {
        "id": "7y09W-ke3p01",
        "colab_type": "text"
      },
      "source": [
        "We can use built-in methods to search for the repeating tiles in the markup. We take advantage of CSS classes here."
      ]
    },
    {
      "cell_type": "code",
      "metadata": {
        "id": "T2qz24nt3p01",
        "colab_type": "code",
        "colab": {
          "base_uri": "https://localhost:8080/",
          "height": 51
        },
        "outputId": "7c1fb5e7-266e-4c5e-a56a-981e2fb3d988"
      },
      "source": [
        "clothing_containers = html_soup.find_all('div', class_ = 'tile')\n",
        "print(type(clothing_containers))\n",
        "print(len(clothing_containers))"
      ],
      "execution_count": 5,
      "outputs": [
        {
          "output_type": "stream",
          "text": [
            "<class 'bs4.element.ResultSet'>\n",
            "48\n"
          ],
          "name": "stdout"
        }
      ]
    },
    {
      "cell_type": "markdown",
      "metadata": {
        "id": "XfCKEZQt3p05",
        "colab_type": "text"
      },
      "source": [
        "Let's take a look at the first tile."
      ]
    },
    {
      "cell_type": "code",
      "metadata": {
        "id": "WFkjxYoJ3p05",
        "colab_type": "code",
        "colab": {
          "base_uri": "https://localhost:8080/",
          "height": 224
        },
        "outputId": "2478f31a-6067-4400-d8aa-ad8d925864b5"
      },
      "source": [
        "first_tile = clothing_containers[0]\n",
        "print(first_tile)"
      ],
      "execution_count": 6,
      "outputs": [
        {
          "output_type": "stream",
          "text": [
            "<div class=\"tile col-x12 col-l6 col-s8\"><div class=\"card card--small\"><a class=\"tile__covershot\" data-et-element-type=\"image\" data-et-name=\"listing\" data-et-prop-listing_id=\"5eb4b23c06d59c17338d34a8\" data-et-prop-location=\"listing_tile\" data-et-prop-unit_position=\"0\" href=\"/listing/Diesel-jeans-40x32-2316-5eb4b23c06d59c17338d34a8\"><div class=\"img__container img__container--square\"><img alt=\"Diesel jeans 40x32 (2316)\" data-src=\"https://di2ponv0v5otw.cloudfront.net/posts/2020/05/07/5eb4b23c06d59c17338d34a8/s_5eb4b24412d880e07e2e0b42.jpg\" src=\"https://di2ponv0v5otw.cloudfront.net/posts/2020/05/07/5eb4b23c06d59c17338d34a8/s_5eb4b24412d880e07e2e0b42.jpg\"/></div><!-- --></a><div class=\"item__details\"><div class=\"title__condition__container\"><a class=\"tile__title tc--b\" data-et-element-type=\"link\" data-et-name=\"listing\" data-et-prop-listing_id=\"5eb4b23c06d59c17338d34a8\" data-et-prop-location=\"listing_tile\" data-et-prop-unit_position=\"0\" href=\"/listing/Diesel-jeans-40x32-2316-5eb4b23c06d59c17338d34a8\">\n",
            "          Diesel jeans 40x32 (2316)\n",
            "        </a><!-- --></div><div class=\"m--t--1\"><span class=\"p--t--1 fw--bold\">\n",
            "          $99\n",
            "        </span><span class=\"p--l--1 tc--lg td--lt\">\n",
            "          $198\n",
            "        </span></div><div class=\"m--t--1\"><a class=\"tile__details__pipe__size ellipses\" href=\"/category/Men-Jeans?size=40\">\n",
            "          Size: 40\n",
            "        </a><a class=\"tile__details__pipe__brand ellipses\" data-et-name=\"listing_brand\" data-et-prop-location=\"listing_tile\" href=\"/brand/Diesel\" style=\"width:calc(100% - 9ch);\">\n",
            "          Diesel\n",
            "        </a></div></div><a class=\"tile__creator\" data-et-name=\"seller\" data-et-prop-location=\"listing_tile\" href=\"/closet/hellsbellsak\"><img alt=\"hellsbellsak\" class=\"user-image user-image--xs\" src=\"https://di2ponv0v5otw.cloudfront.net/users/2020/04/19/9/t_5e9c79ab8d97847eca66de51.jpg\"/><span class=\"tc--g m--l--1\">hellsbellsak</span></a><div class=\"social-action-bar tile__social-actions\"><div class=\"d--fl ai--c cursor--pointer social-action-bar__action social-action-bar__like\" data-et-element-type=\"button\" data-et-name=\"like\" data-et-prop-listing_id=\"5eb4b23c06d59c17338d34a8\"><i class=\"icon as--c like btn__icon\"></i><!-- --><!-- --></div><a class=\"social-action-bar__action social-action-bar__comment\" data-et-element-type=\"button\" data-et-name=\"comment\" data-et-prop-listing_id=\"5eb4b23c06d59c17338d34a8\"><i class=\"icon comment-gray btn__icon\"></i><!-- --></a><div class=\"d--fl ai--c social-action-bar__action social-action-bar__share\" data-et-element-type=\"button\" data-et-name=\"share\" data-et-prop-listing_id=\"5eb4b23c06d59c17338d34a8\"><i class=\"icon share-gray-large\"></i><!-- --></div></div></div></div>\n"
          ],
          "name": "stdout"
        }
      ]
    },
    {
      "cell_type": "markdown",
      "metadata": {
        "id": "KsqL2Qwv3p0-",
        "colab_type": "text"
      },
      "source": [
        "`BeautifulSoup` has a `prettify` method which allows use to make HTML code more readable with proper indentation."
      ]
    },
    {
      "cell_type": "code",
      "metadata": {
        "id": "tApdyF5Y3p0_",
        "colab_type": "code",
        "colab": {
          "base_uri": "https://localhost:8080/",
          "height": 1000
        },
        "outputId": "7a2f7a53-8566-4f2f-f995-b3ea3ab3f855"
      },
      "source": [
        "print(first_tile.prettify())"
      ],
      "execution_count": 7,
      "outputs": [
        {
          "output_type": "stream",
          "text": [
            "<div class=\"tile col-x12 col-l6 col-s8\">\n",
            " <div class=\"card card--small\">\n",
            "  <a class=\"tile__covershot\" data-et-element-type=\"image\" data-et-name=\"listing\" data-et-prop-listing_id=\"5eb4b23c06d59c17338d34a8\" data-et-prop-location=\"listing_tile\" data-et-prop-unit_position=\"0\" href=\"/listing/Diesel-jeans-40x32-2316-5eb4b23c06d59c17338d34a8\">\n",
            "   <div class=\"img__container img__container--square\">\n",
            "    <img alt=\"Diesel jeans 40x32 (2316)\" data-src=\"https://di2ponv0v5otw.cloudfront.net/posts/2020/05/07/5eb4b23c06d59c17338d34a8/s_5eb4b24412d880e07e2e0b42.jpg\" src=\"https://di2ponv0v5otw.cloudfront.net/posts/2020/05/07/5eb4b23c06d59c17338d34a8/s_5eb4b24412d880e07e2e0b42.jpg\"/>\n",
            "   </div>\n",
            "   <!-- -->\n",
            "  </a>\n",
            "  <div class=\"item__details\">\n",
            "   <div class=\"title__condition__container\">\n",
            "    <a class=\"tile__title tc--b\" data-et-element-type=\"link\" data-et-name=\"listing\" data-et-prop-listing_id=\"5eb4b23c06d59c17338d34a8\" data-et-prop-location=\"listing_tile\" data-et-prop-unit_position=\"0\" href=\"/listing/Diesel-jeans-40x32-2316-5eb4b23c06d59c17338d34a8\">\n",
            "     Diesel jeans 40x32 (2316)\n",
            "    </a>\n",
            "    <!-- -->\n",
            "   </div>\n",
            "   <div class=\"m--t--1\">\n",
            "    <span class=\"p--t--1 fw--bold\">\n",
            "     $99\n",
            "    </span>\n",
            "    <span class=\"p--l--1 tc--lg td--lt\">\n",
            "     $198\n",
            "    </span>\n",
            "   </div>\n",
            "   <div class=\"m--t--1\">\n",
            "    <a class=\"tile__details__pipe__size ellipses\" href=\"/category/Men-Jeans?size=40\">\n",
            "     Size: 40\n",
            "    </a>\n",
            "    <a class=\"tile__details__pipe__brand ellipses\" data-et-name=\"listing_brand\" data-et-prop-location=\"listing_tile\" href=\"/brand/Diesel\" style=\"width:calc(100% - 9ch);\">\n",
            "     Diesel\n",
            "    </a>\n",
            "   </div>\n",
            "  </div>\n",
            "  <a class=\"tile__creator\" data-et-name=\"seller\" data-et-prop-location=\"listing_tile\" href=\"/closet/hellsbellsak\">\n",
            "   <img alt=\"hellsbellsak\" class=\"user-image user-image--xs\" src=\"https://di2ponv0v5otw.cloudfront.net/users/2020/04/19/9/t_5e9c79ab8d97847eca66de51.jpg\"/>\n",
            "   <span class=\"tc--g m--l--1\">\n",
            "    hellsbellsak\n",
            "   </span>\n",
            "  </a>\n",
            "  <div class=\"social-action-bar tile__social-actions\">\n",
            "   <div class=\"d--fl ai--c cursor--pointer social-action-bar__action social-action-bar__like\" data-et-element-type=\"button\" data-et-name=\"like\" data-et-prop-listing_id=\"5eb4b23c06d59c17338d34a8\">\n",
            "    <i class=\"icon as--c like btn__icon\">\n",
            "    </i>\n",
            "    <!-- -->\n",
            "    <!-- -->\n",
            "   </div>\n",
            "   <a class=\"social-action-bar__action social-action-bar__comment\" data-et-element-type=\"button\" data-et-name=\"comment\" data-et-prop-listing_id=\"5eb4b23c06d59c17338d34a8\">\n",
            "    <i class=\"icon comment-gray btn__icon\">\n",
            "    </i>\n",
            "    <!-- -->\n",
            "   </a>\n",
            "   <div class=\"d--fl ai--c social-action-bar__action social-action-bar__share\" data-et-element-type=\"button\" data-et-name=\"share\" data-et-prop-listing_id=\"5eb4b23c06d59c17338d34a8\">\n",
            "    <i class=\"icon share-gray-large\">\n",
            "    </i>\n",
            "    <!-- -->\n",
            "   </div>\n",
            "  </div>\n",
            " </div>\n",
            "</div>\n",
            "\n"
          ],
          "name": "stdout"
        }
      ]
    },
    {
      "cell_type": "markdown",
      "metadata": {
        "id": "l4t_sKXB3p1C",
        "colab_type": "text"
      },
      "source": [
        "## Extract the values\n",
        "\n",
        "Now that we have the card isolated, we can extract the specific data points:\n",
        "- Item Title\n",
        "- Item Price\n",
        "- Item Size\n",
        "- Item Brand\n",
        "- Item Page Link\n",
        "- Item Image Link"
      ]
    },
    {
      "cell_type": "code",
      "metadata": {
        "id": "K7TU_FyO3p1D",
        "colab_type": "code",
        "colab": {
          "base_uri": "https://localhost:8080/",
          "height": 88
        },
        "outputId": "32f314e7-9f02-42ec-9922-4e2592485594"
      },
      "source": [
        "# Item Title\n",
        "first_title = first_tile.find('a', class_='tile__title')\n",
        "print(first_title)"
      ],
      "execution_count": 8,
      "outputs": [
        {
          "output_type": "stream",
          "text": [
            "<a class=\"tile__title tc--b\" data-et-element-type=\"link\" data-et-name=\"listing\" data-et-prop-listing_id=\"5eb4b23c06d59c17338d34a8\" data-et-prop-location=\"listing_tile\" data-et-prop-unit_position=\"0\" href=\"/listing/Diesel-jeans-40x32-2316-5eb4b23c06d59c17338d34a8\">\n",
            "          Diesel jeans 40x32 (2316)\n",
            "        </a>\n"
          ],
          "name": "stdout"
        }
      ]
    },
    {
      "cell_type": "code",
      "metadata": {
        "id": "5vCt2GMt3p1H",
        "colab_type": "code",
        "colab": {
          "base_uri": "https://localhost:8080/",
          "height": 68
        },
        "outputId": "7508a04d-d333-4600-b219-af94d114e6d5"
      },
      "source": [
        "first_title = first_tile.find('a', class_='tile__title').get_text()\n",
        "print(first_title)"
      ],
      "execution_count": 9,
      "outputs": [
        {
          "output_type": "stream",
          "text": [
            "\n",
            "          Diesel jeans 40x32 (2316)\n",
            "        \n"
          ],
          "name": "stdout"
        }
      ]
    },
    {
      "cell_type": "code",
      "metadata": {
        "id": "vQtP0M7t3p1J",
        "colab_type": "code",
        "colab": {
          "base_uri": "https://localhost:8080/",
          "height": 34
        },
        "outputId": "7b54ca80-90d1-4e4e-e2dd-390793cb53f3"
      },
      "source": [
        "first_title = first_tile.find('a', class_='tile__title').get_text(strip=True)\n",
        "print(first_title)"
      ],
      "execution_count": 10,
      "outputs": [
        {
          "output_type": "stream",
          "text": [
            "Diesel jeans 40x32 (2316)\n"
          ],
          "name": "stdout"
        }
      ]
    },
    {
      "cell_type": "markdown",
      "metadata": {
        "id": "GXCL0vHh3p1M",
        "colab_type": "text"
      },
      "source": [
        "<br>"
      ]
    },
    {
      "cell_type": "code",
      "metadata": {
        "id": "hxk5uMjT3p1O",
        "colab_type": "code",
        "colab": {
          "base_uri": "https://localhost:8080/",
          "height": 68
        },
        "outputId": "d0e0d5f2-5da7-4553-f32a-c0bf4f0cbcf2"
      },
      "source": [
        "# Item Price\n",
        "first_price = first_tile.find('span', class_=\"fw--bold\")\n",
        "print(first_price)"
      ],
      "execution_count": 11,
      "outputs": [
        {
          "output_type": "stream",
          "text": [
            "<span class=\"p--t--1 fw--bold\">\n",
            "          $99\n",
            "        </span>\n"
          ],
          "name": "stdout"
        }
      ]
    },
    {
      "cell_type": "code",
      "metadata": {
        "id": "scmN3B7s3p1R",
        "colab_type": "code",
        "colab": {
          "base_uri": "https://localhost:8080/",
          "height": 34
        },
        "outputId": "f6aa381a-d389-4faf-fe34-e31832ac9139"
      },
      "source": [
        "first_price = first_tile.find('span', class_=\"fw--bold\").get_text(strip=True)\n",
        "print(first_price)"
      ],
      "execution_count": 12,
      "outputs": [
        {
          "output_type": "stream",
          "text": [
            "$99\n"
          ],
          "name": "stdout"
        }
      ]
    },
    {
      "cell_type": "markdown",
      "metadata": {
        "id": "vJY89NvE3p1U",
        "colab_type": "text"
      },
      "source": [
        "<br>"
      ]
    },
    {
      "cell_type": "code",
      "metadata": {
        "id": "Vj-8I6533p1V",
        "colab_type": "code",
        "colab": {
          "base_uri": "https://localhost:8080/",
          "height": 34
        },
        "outputId": "9ed672d6-5d6e-4d83-9663-d4c32ff43b09"
      },
      "source": [
        "# Item Size\n",
        "first_size = first_tile.find('a', class_=\"tile__details__pipe__size\").get_text(strip=True)\n",
        "print(first_size)"
      ],
      "execution_count": 13,
      "outputs": [
        {
          "output_type": "stream",
          "text": [
            "Size: 40\n"
          ],
          "name": "stdout"
        }
      ]
    },
    {
      "cell_type": "markdown",
      "metadata": {
        "id": "EpSbjXab3p1Y",
        "colab_type": "text"
      },
      "source": [
        "<br>"
      ]
    },
    {
      "cell_type": "code",
      "metadata": {
        "id": "lJJ5hMDT3p1Z",
        "colab_type": "code",
        "colab": {
          "base_uri": "https://localhost:8080/",
          "height": 34
        },
        "outputId": "1ab92920-13fc-4e27-c791-220ddf992224"
      },
      "source": [
        "# Item Brand\n",
        "first_brand = first_tile.find('a', class_=\"tile__details__pipe__brand\").get_text(strip=True)\n",
        "print(first_brand)"
      ],
      "execution_count": 14,
      "outputs": [
        {
          "output_type": "stream",
          "text": [
            "Diesel\n"
          ],
          "name": "stdout"
        }
      ]
    },
    {
      "cell_type": "markdown",
      "metadata": {
        "id": "pn-gwNeW3p1b",
        "colab_type": "text"
      },
      "source": [
        "<br>"
      ]
    },
    {
      "cell_type": "code",
      "metadata": {
        "id": "bildM8Zp3p1c",
        "colab_type": "code",
        "colab": {
          "base_uri": "https://localhost:8080/",
          "height": 34
        },
        "outputId": "d82bbc47-d07b-4b5b-8a78-a9434d868e8d"
      },
      "source": [
        "# Item Detail URL\n",
        "first_link = first_tile.find('a', class_='tile__title').get('href')\n",
        "print(first_link)"
      ],
      "execution_count": 15,
      "outputs": [
        {
          "output_type": "stream",
          "text": [
            "/listing/Diesel-jeans-40x32-2316-5eb4b23c06d59c17338d34a8\n"
          ],
          "name": "stdout"
        }
      ]
    },
    {
      "cell_type": "code",
      "metadata": {
        "id": "fMtN79De3p1f",
        "colab_type": "code",
        "colab": {
          "base_uri": "https://localhost:8080/",
          "height": 34
        },
        "outputId": "b281e3a4-2ff3-45b9-9068-ac909fc0cd57"
      },
      "source": [
        "first_link = 'http://www.poshmark.com' + first_tile.find('a', class_='tile__title').get('href')\n",
        "print(first_link)"
      ],
      "execution_count": 16,
      "outputs": [
        {
          "output_type": "stream",
          "text": [
            "http://www.poshmark.com/listing/Diesel-jeans-40x32-2316-5eb4b23c06d59c17338d34a8\n"
          ],
          "name": "stdout"
        }
      ]
    },
    {
      "cell_type": "markdown",
      "metadata": {
        "id": "OZr5yx7s3p1h",
        "colab_type": "text"
      },
      "source": [
        "<br>"
      ]
    },
    {
      "cell_type": "code",
      "metadata": {
        "id": "5W-8Kbip3p1i",
        "colab_type": "code",
        "colab": {
          "base_uri": "https://localhost:8080/",
          "height": 54
        },
        "outputId": "7f55b211-be7f-4cd7-ba0c-cf746fb3c1af"
      },
      "source": [
        "# Item Image URL\n",
        "first_image = first_tile.find('img')\n",
        "print(first_image)"
      ],
      "execution_count": 17,
      "outputs": [
        {
          "output_type": "stream",
          "text": [
            "<img alt=\"Diesel jeans 40x32 (2316)\" data-src=\"https://di2ponv0v5otw.cloudfront.net/posts/2020/05/07/5eb4b23c06d59c17338d34a8/s_5eb4b24412d880e07e2e0b42.jpg\" src=\"https://di2ponv0v5otw.cloudfront.net/posts/2020/05/07/5eb4b23c06d59c17338d34a8/s_5eb4b24412d880e07e2e0b42.jpg\"/>\n"
          ],
          "name": "stdout"
        }
      ]
    },
    {
      "cell_type": "code",
      "metadata": {
        "id": "aCe-HjZZ3p1k",
        "colab_type": "code",
        "colab": {
          "base_uri": "https://localhost:8080/",
          "height": 34
        },
        "outputId": "f72b6926-88c5-47ae-a9df-7c329beaf1d0"
      },
      "source": [
        "first_image = first_tile.find('img').get('src')\n",
        "print(first_image)"
      ],
      "execution_count": 18,
      "outputs": [
        {
          "output_type": "stream",
          "text": [
            "https://di2ponv0v5otw.cloudfront.net/posts/2020/05/07/5eb4b23c06d59c17338d34a8/s_5eb4b24412d880e07e2e0b42.jpg\n"
          ],
          "name": "stdout"
        }
      ]
    },
    {
      "cell_type": "markdown",
      "metadata": {
        "id": "crEW25FA3p1n",
        "colab_type": "text"
      },
      "source": [
        "<br>"
      ]
    },
    {
      "cell_type": "markdown",
      "metadata": {
        "id": "EHXiYjVV3p1n",
        "colab_type": "text"
      },
      "source": [
        "## Format the data\n",
        "\n",
        "We scraped the raw data. However, all the data are strings. We need to convert them to the appropriate types."
      ]
    },
    {
      "cell_type": "code",
      "metadata": {
        "id": "ldRKpkxL3p1o",
        "colab_type": "code",
        "colab": {
          "base_uri": "https://localhost:8080/",
          "height": 119
        },
        "outputId": "46a8642d-1e59-4741-ab1f-3dade1102942"
      },
      "source": [
        "print('Title: ', first_title)\n",
        "print('Price: ', first_price)\n",
        "print('Size: ', first_size)\n",
        "print('Brand: ', first_brand)\n",
        "print('Link: ', first_link)\n",
        "print('Image: ', first_image)"
      ],
      "execution_count": 19,
      "outputs": [
        {
          "output_type": "stream",
          "text": [
            "Title:  Diesel jeans 40x32 (2316)\n",
            "Price:  $99\n",
            "Size:  Size: 40\n",
            "Brand:  Diesel\n",
            "Link:  http://www.poshmark.com/listing/Diesel-jeans-40x32-2316-5eb4b23c06d59c17338d34a8\n",
            "Image:  https://di2ponv0v5otw.cloudfront.net/posts/2020/05/07/5eb4b23c06d59c17338d34a8/s_5eb4b24412d880e07e2e0b42.jpg\n"
          ],
          "name": "stdout"
        }
      ]
    },
    {
      "cell_type": "markdown",
      "metadata": {
        "id": "-WrKuran3p1r",
        "colab_type": "text"
      },
      "source": [
        "The title and links can stay the same. However, we will need to convert price and size to `int`."
      ]
    },
    {
      "cell_type": "code",
      "metadata": {
        "id": "Z4T5sXnU3p1r",
        "colab_type": "code",
        "colab": {
          "base_uri": "https://localhost:8080/",
          "height": 51
        },
        "outputId": "0242f3cc-e008-4b25-96c1-3ac6266599fb"
      },
      "source": [
        "fixed_price = first_price.replace('$', '')\n",
        "print(type(fixed_price))\n",
        "print(fixed_price)"
      ],
      "execution_count": 20,
      "outputs": [
        {
          "output_type": "stream",
          "text": [
            "<class 'str'>\n",
            "99\n"
          ],
          "name": "stdout"
        }
      ]
    },
    {
      "cell_type": "code",
      "metadata": {
        "id": "tcSRShml3p1u",
        "colab_type": "code",
        "colab": {
          "base_uri": "https://localhost:8080/",
          "height": 51
        },
        "outputId": "6be89439-9ec2-4cd5-dd4a-983314e56ef6"
      },
      "source": [
        "fixed_price = int(first_price.replace('$', ''))\n",
        "print(type(fixed_price))\n",
        "print(fixed_price)"
      ],
      "execution_count": 21,
      "outputs": [
        {
          "output_type": "stream",
          "text": [
            "<class 'int'>\n",
            "99\n"
          ],
          "name": "stdout"
        }
      ]
    },
    {
      "cell_type": "code",
      "metadata": {
        "id": "RvTQ0SdP3p1x",
        "colab_type": "code",
        "colab": {
          "base_uri": "https://localhost:8080/",
          "height": 51
        },
        "outputId": "56b1942b-876b-4b16-a142-6451748e8379"
      },
      "source": [
        "fixed_size = int(first_size.replace('Size: ', ''))\n",
        "print(type(fixed_size))\n",
        "print(fixed_size)"
      ],
      "execution_count": 22,
      "outputs": [
        {
          "output_type": "stream",
          "text": [
            "<class 'int'>\n",
            "40\n"
          ],
          "name": "stdout"
        }
      ]
    },
    {
      "cell_type": "code",
      "metadata": {
        "id": "bcLIUTp_3p12",
        "colab_type": "code",
        "colab": {}
      },
      "source": [
        ""
      ],
      "execution_count": 0,
      "outputs": []
    },
    {
      "cell_type": "markdown",
      "metadata": {
        "id": "5l1ayWMZ3p14",
        "colab_type": "text"
      },
      "source": [
        "<br>"
      ]
    },
    {
      "cell_type": "markdown",
      "metadata": {
        "id": "WquUxGAM3p15",
        "colab_type": "text"
      },
      "source": [
        "## Extracting a new feature\n",
        "\n",
        "If you took a close look at the image URL, you can see the path actually shows when the posting was created. Let's extract that."
      ]
    },
    {
      "cell_type": "code",
      "metadata": {
        "id": "19k1yWCW3p15",
        "colab_type": "code",
        "colab": {
          "base_uri": "https://localhost:8080/",
          "height": 34
        },
        "outputId": "f044d242-5708-4c4b-ea98-80f43e6bcde6"
      },
      "source": [
        "start_idx = first_image.find('2020')\n",
        "print(start_idx)"
      ],
      "execution_count": 23,
      "outputs": [
        {
          "output_type": "stream",
          "text": [
            "43\n"
          ],
          "name": "stdout"
        }
      ]
    },
    {
      "cell_type": "code",
      "metadata": {
        "id": "LzrNnsHN3p17",
        "colab_type": "code",
        "colab": {
          "base_uri": "https://localhost:8080/",
          "height": 34
        },
        "outputId": "43b73012-04d9-4566-863a-7e5bf4c27860"
      },
      "source": [
        "end_idx = start_idx + 10\n",
        "raw_date = first_image[start_idx:end_idx]\n",
        "print(raw_date)"
      ],
      "execution_count": 24,
      "outputs": [
        {
          "output_type": "stream",
          "text": [
            "2020/05/07\n"
          ],
          "name": "stdout"
        }
      ]
    },
    {
      "cell_type": "code",
      "metadata": {
        "id": "BZ3vwkGX3p19",
        "colab_type": "code",
        "colab": {
          "base_uri": "https://localhost:8080/",
          "height": 34
        },
        "outputId": "7d7469ca-0056-43d7-9048-42aca020c66f"
      },
      "source": [
        "from dateutil.parser import parse\n",
        "\n",
        "first_date = parse(raw_date)\n",
        "print(first_date)"
      ],
      "execution_count": 25,
      "outputs": [
        {
          "output_type": "stream",
          "text": [
            "2020-05-07 00:00:00\n"
          ],
          "name": "stdout"
        }
      ]
    },
    {
      "cell_type": "markdown",
      "metadata": {
        "id": "xJdb9bRp3p1_",
        "colab_type": "text"
      },
      "source": [
        "We can find the approximate days the item has been listed."
      ]
    },
    {
      "cell_type": "code",
      "metadata": {
        "id": "qB9dwqlf3p2A",
        "colab_type": "code",
        "colab": {
          "base_uri": "https://localhost:8080/",
          "height": 34
        },
        "outputId": "0a31a76a-cbd7-455f-854b-1d1ee0f79d05"
      },
      "source": [
        "from datetime import datetime\n",
        "\n",
        "now = datetime.now()\n",
        "diff = abs((first_date-now).days)\n",
        "print(diff)"
      ],
      "execution_count": 26,
      "outputs": [
        {
          "output_type": "stream",
          "text": [
            "2\n"
          ],
          "name": "stdout"
        }
      ]
    },
    {
      "cell_type": "markdown",
      "metadata": {
        "id": "JHWYlaVd3p2D",
        "colab_type": "text"
      },
      "source": [
        "<div class=\"alert alert-info\">\n",
        "\n",
        "<b>Note:</b> In a professional workflow, you would create separate versions of the data.\n",
        "\n",
        "<br>\n",
        "\n",
        "<ol>\n",
        "    <li>Raw scraped data</li>\n",
        "    <li>Type formatted data</li>\n",
        "    <li>Data with new features</li>\n",
        "</ol>\n",
        "\n",
        "</div>"
      ]
    },
    {
      "cell_type": "markdown",
      "metadata": {
        "id": "FvuNEjXg3p2D",
        "colab_type": "text"
      },
      "source": [
        "<br>"
      ]
    },
    {
      "cell_type": "markdown",
      "metadata": {
        "id": "usofbbVf3p2E",
        "colab_type": "text"
      },
      "source": [
        "# 5 minute break"
      ]
    },
    {
      "cell_type": "markdown",
      "metadata": {
        "id": "xN1s7qJb3p2E",
        "colab_type": "text"
      },
      "source": [
        "<br>"
      ]
    },
    {
      "cell_type": "markdown",
      "metadata": {
        "id": "uK2YRCfO3p2E",
        "colab_type": "text"
      },
      "source": [
        "## Refactor code, create functions\n",
        "\n",
        "Here we'll refactor our code and create functions to extract all the data. A \"good\" function follows these guidelines:\n",
        "\n",
        "- Is sensibly named\n",
        "- Has a single responsibility\n",
        "- Includes a docstring\n",
        "- Returns a value\n",
        "- Is not longer than 50 lines"
      ]
    },
    {
      "cell_type": "code",
      "metadata": {
        "id": "ehD4wMGR3p2F",
        "colab_type": "code",
        "colab": {}
      },
      "source": [
        "from dateutil.parser import parse\n",
        "from datetime import datetime\n",
        "\n",
        "def download_page(url):\n",
        "    \"Download HTML source for a given URL\"\n",
        "    response = get(url)\n",
        "    return response\n",
        "\n",
        "def create_soup(source):\n",
        "    \"Convert HTML source to BeautifulSoup object\"\n",
        "    soup = BeautifulSoup(source.text, 'html.parser')\n",
        "    return soup\n",
        "\n",
        "def extract_tiles(soup):\n",
        "    \"Extract all the clothing tile elements\"\n",
        "    containers = soup.find_all('div', class_ = 'tile')\n",
        "    return containers\n",
        "\n",
        "def extract_title(tile):\n",
        "    \"Extract the title string from a tile\"\n",
        "    title = tile.find('a', class_='tile__title').get_text(strip=True)\n",
        "    return title\n",
        "\n",
        "def extract_price(tile):\n",
        "    \"Extract the price integer from a tile\"\n",
        "    price_string = tile.find('span', class_=\"fw--bold\").get_text(strip=True)\n",
        "    price = int(price_string.replace('$', ''))\n",
        "    return price\n",
        "\n",
        "def extract_size(tile):\n",
        "    \"Extract the size integer from a tile\"\n",
        "    size_string = tile.find('a', class_=\"tile__details__pipe__size\").get_text(strip=True)\n",
        "    size = int(size_string.replace('Size: ', ''))\n",
        "    return size\n",
        "\n",
        "def extract_brand(tile):\n",
        "    \"Extract the brand string from a tile\"\n",
        "    brand = tile.find('a', class_=\"tile__details__pipe__brand\").get_text(strip=True)\n",
        "    return brand\n",
        "\n",
        "def extract_link(tile):\n",
        "    \"Extract the link string from a tile\"\n",
        "    partial_link = tile.find('a', class_='tile__title').get('href')\n",
        "    link = 'http://www.poshmark.com' + partial_link\n",
        "    return link\n",
        "\n",
        "def extract_image(tile):\n",
        "    \"Extract the image link string from a tile\"\n",
        "    image = tile.find('img').get('data-src')\n",
        "    return image\n",
        "    \n",
        "def extract_date(url):\n",
        "    \"Extract the posting date from a url\"\n",
        "    start = url.find('20')\n",
        "    end = start + 10\n",
        "    raw_date = url[start:end]\n",
        "    date = parse(raw_date)\n",
        "    return date\n",
        "\n",
        "def find_difference(date):\n",
        "    \"Find the amount of days an item has been listed\"\n",
        "    now = datetime.now()\n",
        "    diff = abs((date-now).days)\n",
        "    return diff"
      ],
      "execution_count": 0,
      "outputs": []
    },
    {
      "cell_type": "code",
      "metadata": {
        "id": "AXEfcWGa3p2H",
        "colab_type": "code",
        "colab": {}
      },
      "source": [
        "def combine_data(tile):\n",
        "    \"Run independent functions and return object of all values\"\n",
        "    try:\n",
        "        title = extract_title(tile)\n",
        "    except:\n",
        "        title = ''\n",
        "        \n",
        "    try:\n",
        "        price = extract_price(tile)\n",
        "    except: \n",
        "        price = ''\n",
        "        \n",
        "    try:\n",
        "        size = extract_size(tile)\n",
        "    except:\n",
        "        size = ''\n",
        "    \n",
        "    try:\n",
        "        brand = extract_brand(tile)\n",
        "    except:\n",
        "        brand = ''\n",
        "    \n",
        "    try: \n",
        "        link = extract_link(tile)\n",
        "    except:\n",
        "        link = ''\n",
        "        \n",
        "    try:\n",
        "        image = extract_image(tile)\n",
        "    except:\n",
        "        image = ''\n",
        "        \n",
        "    try:\n",
        "        date = extract_date(image)\n",
        "        difference = find_difference(date)\n",
        "    except:\n",
        "        date = ''\n",
        "        difference = ''\n",
        "        \n",
        "    return {\n",
        "        'title': title,\n",
        "        'price': price,\n",
        "        'size': size,\n",
        "        'brand': brand,\n",
        "        'link': link,\n",
        "        'image': image,\n",
        "        'date': date,\n",
        "        'difference': difference \n",
        "    }"
      ],
      "execution_count": 0,
      "outputs": []
    },
    {
      "cell_type": "markdown",
      "metadata": {
        "id": "nRdsYOG13p2J",
        "colab_type": "text"
      },
      "source": [
        "## Extract all tiles on initial page\n",
        "\n",
        "Now we can use the function to extract all the data from the page."
      ]
    },
    {
      "cell_type": "code",
      "metadata": {
        "id": "iEEy-ZFB3p2J",
        "colab_type": "code",
        "colab": {}
      },
      "source": [
        "url = \"https://poshmark.com/brand/Naked_&_Famous_Denim-Men-Jeans\"\n",
        "\n",
        "page = download_page(url)\n",
        "soup_obj = create_soup(page)\n",
        "item_tiles = extract_tiles(soup_obj)\n",
        "item_objs = [combine_data(tile) for tile in item_tiles]"
      ],
      "execution_count": 0,
      "outputs": []
    },
    {
      "cell_type": "code",
      "metadata": {
        "id": "qZfFQN1a3p2M",
        "colab_type": "code",
        "colab": {
          "base_uri": "https://localhost:8080/",
          "height": 34
        },
        "outputId": "26e79186-db5c-4556-ba9b-9d266c5f3676"
      },
      "source": [
        "print(len(item_objs))"
      ],
      "execution_count": 30,
      "outputs": [
        {
          "output_type": "stream",
          "text": [
            "48\n"
          ],
          "name": "stdout"
        }
      ]
    },
    {
      "cell_type": "code",
      "metadata": {
        "id": "koH-MQaD3p2O",
        "colab_type": "code",
        "colab": {
          "base_uri": "https://localhost:8080/",
          "height": 88
        },
        "outputId": "987c82b8-9214-48a6-d1aa-a936c77b4adc"
      },
      "source": [
        "print(item_objs[0])\n",
        "print('-------')\n",
        "print(item_objs[45])"
      ],
      "execution_count": 31,
      "outputs": [
        {
          "output_type": "stream",
          "text": [
            "{'title': 'Naked & Famous Weird Guy Twill Selvedge Jeans', 'price': 99, 'size': 30, 'brand': 'Naked & Famous Denim', 'link': 'http://www.poshmark.com/listing/Naked-Famous-Weird-Guy-Twill-Selvedge-Jeans-5d6a8954138e18c4f74a7923', 'image': 'https://di2ponv0v5otw.cloudfront.net/posts/2019/08/31/5d6a8954138e18c4f74a7923/s_5d6a8976bb22e38dac0d6653.jpg', 'date': datetime.datetime(2019, 8, 31, 0, 0), 'difference': 252}\n",
            "-------\n",
            "{'title': 'NAKED & FAMOUS DARK WASH DENIM STRETCH JEANS', 'price': 55, 'size': 28, 'brand': 'Naked & Famous Denim', 'link': 'http://www.poshmark.com/listing/NAKED-FAMOUS-DARK-WASH-DENIM-STRETCH-JEANS-5eb1fae471766048e13ba840', 'image': 'https://di2ponv0v5otw.cloudfront.net/posts/2020/05/05/5eb1fae471766048e13ba840/s_5eb1fb876f6c9129cf1ee0d9.jpeg', 'date': datetime.datetime(2020, 5, 5, 0, 0), 'difference': 4}\n"
          ],
          "name": "stdout"
        }
      ]
    },
    {
      "cell_type": "code",
      "metadata": {
        "id": "X2iL05mA3p2Q",
        "colab_type": "code",
        "colab": {
          "base_uri": "https://localhost:8080/",
          "height": 153
        },
        "outputId": "f9b435e5-3014-4060-e3bd-e0cd8d7360c4"
      },
      "source": [
        "from pprint import pprint\n",
        "\n",
        "pprint(item_objs[0])"
      ],
      "execution_count": 32,
      "outputs": [
        {
          "output_type": "stream",
          "text": [
            "{'brand': 'Naked & Famous Denim',\n",
            " 'date': datetime.datetime(2019, 8, 31, 0, 0),\n",
            " 'difference': 252,\n",
            " 'image': 'https://di2ponv0v5otw.cloudfront.net/posts/2019/08/31/5d6a8954138e18c4f74a7923/s_5d6a8976bb22e38dac0d6653.jpg',\n",
            " 'link': 'http://www.poshmark.com/listing/Naked-Famous-Weird-Guy-Twill-Selvedge-Jeans-5d6a8954138e18c4f74a7923',\n",
            " 'price': 99,\n",
            " 'size': 30,\n",
            " 'title': 'Naked & Famous Weird Guy Twill Selvedge Jeans'}\n"
          ],
          "name": "stdout"
        }
      ]
    },
    {
      "cell_type": "markdown",
      "metadata": {
        "id": "P8JRwOKw3p2S",
        "colab_type": "text"
      },
      "source": [
        "<div class=\"alert alert-warning\">\n",
        "\n",
        "<b>Note:</b> There are hundreds of listings, but we can only scrape the first 48.\n",
        "\n",
        "<br>\n",
        "\n",
        "<p>Modern websites use JavaScript to load additional results to prevent long initial load times. Our initial page download only includes the first set of listings. If you want to extract all the listings, you will have to use a headless browser. It creates a Chrome/Firefox instance in the background to mimic a real page visit.</p>\n",
        "\n",
        "<br>\n",
        "\n",
        "<p>That is a bit more complicated and out of the scope for now. I can demonstrate in a future talk.</p>\n",
        "\n",
        "</div>"
      ]
    },
    {
      "cell_type": "markdown",
      "metadata": {
        "id": "bemC3bqZ3p2T",
        "colab_type": "text"
      },
      "source": [
        "## Extract other denim brands\n",
        "\n",
        "Let's extract the data for other denim brands as well."
      ]
    },
    {
      "cell_type": "code",
      "metadata": {
        "id": "ii2yMBon3p2T",
        "colab_type": "code",
        "colab": {}
      },
      "source": [
        "brands = ['J._Crew', 'Naked_&_Famous_Denim', \"Levi's\", 'Diesel']\n",
        "store = []\n",
        "\n",
        "for tag in brands:\n",
        "    url = f\"https://poshmark.com/brand/{tag}-Men-Jeans\"\n",
        "    page = download_page(url)\n",
        "    soup_obj = create_soup(page)\n",
        "    item_tiles = extract_tiles(soup_obj)\n",
        "    item_objs = [combine_data(tile) for tile in item_tiles]\n",
        "    store.append(item_objs)"
      ],
      "execution_count": 0,
      "outputs": []
    },
    {
      "cell_type": "code",
      "metadata": {
        "id": "owKKLQuj3p2W",
        "colab_type": "code",
        "colab": {
          "base_uri": "https://localhost:8080/",
          "height": 51
        },
        "outputId": "1fdf4206-bb3c-4780-cb44-a524b6a23ea7"
      },
      "source": [
        "print(len(store))\n",
        "print(len(store[0]))"
      ],
      "execution_count": 34,
      "outputs": [
        {
          "output_type": "stream",
          "text": [
            "4\n",
            "48\n"
          ],
          "name": "stdout"
        }
      ]
    },
    {
      "cell_type": "code",
      "metadata": {
        "id": "3TMEbkVp3p2Z",
        "colab_type": "code",
        "colab": {}
      },
      "source": [
        "brands = ['J._Crew', 'Naked_&_Famous_Denim', \"Levi's\", 'Diesel']\n",
        "store = []\n",
        "\n",
        "for tag in brands:\n",
        "    url = f\"https://poshmark.com/brand/{tag}-Men-Jeans\"\n",
        "    page = download_page(url)\n",
        "    soup_obj = create_soup(page)\n",
        "    item_tiles = extract_tiles(soup_obj)\n",
        "    item_objs = [combine_data(tile) for tile in item_tiles]\n",
        "    store.extend(item_objs)"
      ],
      "execution_count": 0,
      "outputs": []
    },
    {
      "cell_type": "code",
      "metadata": {
        "id": "yBOoJiUM3p2b",
        "colab_type": "code",
        "colab": {
          "base_uri": "https://localhost:8080/",
          "height": 51
        },
        "outputId": "2f174cd1-70aa-484b-a1d5-cd779dc6cf97"
      },
      "source": [
        "print(len(store))\n",
        "print(len(store[0]))"
      ],
      "execution_count": 36,
      "outputs": [
        {
          "output_type": "stream",
          "text": [
            "192\n",
            "8\n"
          ],
          "name": "stdout"
        }
      ]
    },
    {
      "cell_type": "code",
      "metadata": {
        "id": "NVbdfCbc9HEu",
        "colab_type": "code",
        "colab": {
          "base_uri": "https://localhost:8080/",
          "height": 54
        },
        "outputId": "5a28d44f-7a40-428e-c2df-511d4354fa8f"
      },
      "source": [
        "print((store[0]))"
      ],
      "execution_count": 38,
      "outputs": [
        {
          "output_type": "stream",
          "text": [
            "{'title': 'J. Crew Straight Leg Denim Jeans', 'price': 25, 'size': 29, 'brand': 'J. Crew', 'link': 'http://www.poshmark.com/listing/J-Crew-Straight-Leg-Denim-Jeans-5e4b0679f68375377f9b9ada', 'image': 'https://di2ponv0v5otw.cloudfront.net/posts/2020/02/17/5e4b0679f68375377f9b9ada/s_5e4b067aa20dfc087f689804.jpeg', 'date': datetime.datetime(2020, 2, 17, 0, 0), 'difference': 82}\n"
          ],
          "name": "stdout"
        }
      ]
    },
    {
      "cell_type": "markdown",
      "metadata": {
        "id": "NHx7l7CU3p2e",
        "colab_type": "text"
      },
      "source": [
        "## Examing the scraped data\n",
        "\n",
        "You can bring the data into `pandas` for further examination."
      ]
    },
    {
      "cell_type": "code",
      "metadata": {
        "id": "qqXKcjQ93p2f",
        "colab_type": "code",
        "colab": {
          "base_uri": "https://localhost:8080/",
          "height": 442
        },
        "outputId": "b9c0cee2-beb4-46ca-d20f-602b1918d304"
      },
      "source": [
        "import pandas as pd\n",
        "\n",
        "df = pd.DataFrame(store)\n",
        "print(df.info())\n",
        "print('')\n",
        "print(df.head())"
      ],
      "execution_count": 37,
      "outputs": [
        {
          "output_type": "stream",
          "text": [
            "<class 'pandas.core.frame.DataFrame'>\n",
            "RangeIndex: 192 entries, 0 to 191\n",
            "Data columns (total 8 columns):\n",
            " #   Column      Non-Null Count  Dtype         \n",
            "---  ------      --------------  -----         \n",
            " 0   title       192 non-null    object        \n",
            " 1   price       192 non-null    int64         \n",
            " 2   size        192 non-null    object        \n",
            " 3   brand       192 non-null    object        \n",
            " 4   link        192 non-null    object        \n",
            " 5   image       192 non-null    object        \n",
            " 6   date        192 non-null    datetime64[ns]\n",
            " 7   difference  192 non-null    int64         \n",
            "dtypes: datetime64[ns](1), int64(2), object(5)\n",
            "memory usage: 12.1+ KB\n",
            "None\n",
            "\n",
            "                                             title  ...  difference\n",
            "0                 J. Crew Straight Leg Denim Jeans  ...          82\n",
            "1            J.CREW MENS “THE DRIGGS” SKINNY JEANS  ...         472\n",
            "2   J. Crew 770 Dark Wash Straight Fit Jeans 32x32  ...         208\n",
            "3  NWOT J. Crew Style 484 Dark Wash Slim Fit Jeans  ...          25\n",
            "4    J. Crew 484 extra slim white jeans size 31x32  ...         168\n",
            "\n",
            "[5 rows x 8 columns]\n"
          ],
          "name": "stdout"
        }
      ]
    },
    {
      "cell_type": "code",
      "metadata": {
        "id": "8UY1eOk43p2i",
        "colab_type": "code",
        "colab": {}
      },
      "source": [
        "df['length'] = df['title'].map(lambda x: len(x))"
      ],
      "execution_count": 0,
      "outputs": []
    },
    {
      "cell_type": "code",
      "metadata": {
        "id": "aMVU73lV3p2l",
        "colab_type": "code",
        "colab": {
          "base_uri": "https://localhost:8080/",
          "height": 289
        },
        "outputId": "918ec821-ea6f-4014-f32a-b4041c06940f"
      },
      "source": [
        "df.head()"
      ],
      "execution_count": 40,
      "outputs": [
        {
          "output_type": "execute_result",
          "data": {
            "text/html": [
              "<div>\n",
              "<style scoped>\n",
              "    .dataframe tbody tr th:only-of-type {\n",
              "        vertical-align: middle;\n",
              "    }\n",
              "\n",
              "    .dataframe tbody tr th {\n",
              "        vertical-align: top;\n",
              "    }\n",
              "\n",
              "    .dataframe thead th {\n",
              "        text-align: right;\n",
              "    }\n",
              "</style>\n",
              "<table border=\"1\" class=\"dataframe\">\n",
              "  <thead>\n",
              "    <tr style=\"text-align: right;\">\n",
              "      <th></th>\n",
              "      <th>title</th>\n",
              "      <th>price</th>\n",
              "      <th>size</th>\n",
              "      <th>brand</th>\n",
              "      <th>link</th>\n",
              "      <th>image</th>\n",
              "      <th>date</th>\n",
              "      <th>difference</th>\n",
              "      <th>length</th>\n",
              "    </tr>\n",
              "  </thead>\n",
              "  <tbody>\n",
              "    <tr>\n",
              "      <th>0</th>\n",
              "      <td>J. Crew Straight Leg Denim Jeans</td>\n",
              "      <td>25</td>\n",
              "      <td>29</td>\n",
              "      <td>J. Crew</td>\n",
              "      <td>http://www.poshmark.com/listing/J-Crew-Straigh...</td>\n",
              "      <td>https://di2ponv0v5otw.cloudfront.net/posts/202...</td>\n",
              "      <td>2020-02-17</td>\n",
              "      <td>82</td>\n",
              "      <td>32</td>\n",
              "    </tr>\n",
              "    <tr>\n",
              "      <th>1</th>\n",
              "      <td>J.CREW MENS “THE DRIGGS” SKINNY JEANS</td>\n",
              "      <td>30</td>\n",
              "      <td>31</td>\n",
              "      <td>J. Crew</td>\n",
              "      <td>http://www.poshmark.com/listing/JCREW-MENS-THE...</td>\n",
              "      <td>https://di2ponv0v5otw.cloudfront.net/posts/201...</td>\n",
              "      <td>2019-01-23</td>\n",
              "      <td>472</td>\n",
              "      <td>37</td>\n",
              "    </tr>\n",
              "    <tr>\n",
              "      <th>2</th>\n",
              "      <td>J. Crew 770 Dark Wash Straight Fit Jeans 32x32</td>\n",
              "      <td>53</td>\n",
              "      <td>32</td>\n",
              "      <td>J. Crew</td>\n",
              "      <td>http://www.poshmark.com/listing/J-Crew-770-Dar...</td>\n",
              "      <td>https://di2ponv0v5otw.cloudfront.net/posts/201...</td>\n",
              "      <td>2019-10-14</td>\n",
              "      <td>208</td>\n",
              "      <td>46</td>\n",
              "    </tr>\n",
              "    <tr>\n",
              "      <th>3</th>\n",
              "      <td>NWOT J. Crew Style 484 Dark Wash Slim Fit Jeans</td>\n",
              "      <td>35</td>\n",
              "      <td>31</td>\n",
              "      <td>J. Crew</td>\n",
              "      <td>http://www.poshmark.com/listing/NWOT-J-Crew-St...</td>\n",
              "      <td>https://di2ponv0v5otw.cloudfront.net/posts/202...</td>\n",
              "      <td>2020-04-14</td>\n",
              "      <td>25</td>\n",
              "      <td>47</td>\n",
              "    </tr>\n",
              "    <tr>\n",
              "      <th>4</th>\n",
              "      <td>J. Crew 484 extra slim white jeans size 31x32</td>\n",
              "      <td>36</td>\n",
              "      <td>31</td>\n",
              "      <td>J. Crew</td>\n",
              "      <td>http://www.poshmark.com/listing/J-Crew-484-ext...</td>\n",
              "      <td>https://di2ponv0v5otw.cloudfront.net/posts/201...</td>\n",
              "      <td>2019-11-23</td>\n",
              "      <td>168</td>\n",
              "      <td>45</td>\n",
              "    </tr>\n",
              "  </tbody>\n",
              "</table>\n",
              "</div>"
            ],
            "text/plain": [
              "                                             title  price  ... difference length\n",
              "0                 J. Crew Straight Leg Denim Jeans     25  ...         82     32\n",
              "1            J.CREW MENS “THE DRIGGS” SKINNY JEANS     30  ...        472     37\n",
              "2   J. Crew 770 Dark Wash Straight Fit Jeans 32x32     53  ...        208     46\n",
              "3  NWOT J. Crew Style 484 Dark Wash Slim Fit Jeans     35  ...         25     47\n",
              "4    J. Crew 484 extra slim white jeans size 31x32     36  ...        168     45\n",
              "\n",
              "[5 rows x 9 columns]"
            ]
          },
          "metadata": {
            "tags": []
          },
          "execution_count": 40
        }
      ]
    },
    {
      "cell_type": "code",
      "metadata": {
        "id": "py_axf093p2n",
        "colab_type": "code",
        "colab": {
          "base_uri": "https://localhost:8080/",
          "height": 204
        },
        "outputId": "68dfbfa0-87ba-455e-88ef-fe79fc8e2163"
      },
      "source": [
        "numeric_df = df[['brand', 'price', 'size', 'difference', 'length']]\n",
        "numeric_df.head()"
      ],
      "execution_count": 41,
      "outputs": [
        {
          "output_type": "execute_result",
          "data": {
            "text/html": [
              "<div>\n",
              "<style scoped>\n",
              "    .dataframe tbody tr th:only-of-type {\n",
              "        vertical-align: middle;\n",
              "    }\n",
              "\n",
              "    .dataframe tbody tr th {\n",
              "        vertical-align: top;\n",
              "    }\n",
              "\n",
              "    .dataframe thead th {\n",
              "        text-align: right;\n",
              "    }\n",
              "</style>\n",
              "<table border=\"1\" class=\"dataframe\">\n",
              "  <thead>\n",
              "    <tr style=\"text-align: right;\">\n",
              "      <th></th>\n",
              "      <th>brand</th>\n",
              "      <th>price</th>\n",
              "      <th>size</th>\n",
              "      <th>difference</th>\n",
              "      <th>length</th>\n",
              "    </tr>\n",
              "  </thead>\n",
              "  <tbody>\n",
              "    <tr>\n",
              "      <th>0</th>\n",
              "      <td>J. Crew</td>\n",
              "      <td>25</td>\n",
              "      <td>29</td>\n",
              "      <td>82</td>\n",
              "      <td>32</td>\n",
              "    </tr>\n",
              "    <tr>\n",
              "      <th>1</th>\n",
              "      <td>J. Crew</td>\n",
              "      <td>30</td>\n",
              "      <td>31</td>\n",
              "      <td>472</td>\n",
              "      <td>37</td>\n",
              "    </tr>\n",
              "    <tr>\n",
              "      <th>2</th>\n",
              "      <td>J. Crew</td>\n",
              "      <td>53</td>\n",
              "      <td>32</td>\n",
              "      <td>208</td>\n",
              "      <td>46</td>\n",
              "    </tr>\n",
              "    <tr>\n",
              "      <th>3</th>\n",
              "      <td>J. Crew</td>\n",
              "      <td>35</td>\n",
              "      <td>31</td>\n",
              "      <td>25</td>\n",
              "      <td>47</td>\n",
              "    </tr>\n",
              "    <tr>\n",
              "      <th>4</th>\n",
              "      <td>J. Crew</td>\n",
              "      <td>36</td>\n",
              "      <td>31</td>\n",
              "      <td>168</td>\n",
              "      <td>45</td>\n",
              "    </tr>\n",
              "  </tbody>\n",
              "</table>\n",
              "</div>"
            ],
            "text/plain": [
              "     brand  price size  difference  length\n",
              "0  J. Crew     25   29          82      32\n",
              "1  J. Crew     30   31         472      37\n",
              "2  J. Crew     53   32         208      46\n",
              "3  J. Crew     35   31          25      47\n",
              "4  J. Crew     36   31         168      45"
            ]
          },
          "metadata": {
            "tags": []
          },
          "execution_count": 41
        }
      ]
    },
    {
      "cell_type": "code",
      "metadata": {
        "id": "CnOnUrqq3p2p",
        "colab_type": "code",
        "colab": {
          "base_uri": "https://localhost:8080/",
          "height": 297
        },
        "outputId": "9ba0bb62-c045-4e21-cb90-122d30462452"
      },
      "source": [
        "# Check for extreme values\n",
        "numeric_df.describe()"
      ],
      "execution_count": 42,
      "outputs": [
        {
          "output_type": "execute_result",
          "data": {
            "text/html": [
              "<div>\n",
              "<style scoped>\n",
              "    .dataframe tbody tr th:only-of-type {\n",
              "        vertical-align: middle;\n",
              "    }\n",
              "\n",
              "    .dataframe tbody tr th {\n",
              "        vertical-align: top;\n",
              "    }\n",
              "\n",
              "    .dataframe thead th {\n",
              "        text-align: right;\n",
              "    }\n",
              "</style>\n",
              "<table border=\"1\" class=\"dataframe\">\n",
              "  <thead>\n",
              "    <tr style=\"text-align: right;\">\n",
              "      <th></th>\n",
              "      <th>price</th>\n",
              "      <th>difference</th>\n",
              "      <th>length</th>\n",
              "    </tr>\n",
              "  </thead>\n",
              "  <tbody>\n",
              "    <tr>\n",
              "      <th>count</th>\n",
              "      <td>192.000000</td>\n",
              "      <td>192.000000</td>\n",
              "      <td>192.000000</td>\n",
              "    </tr>\n",
              "    <tr>\n",
              "      <th>mean</th>\n",
              "      <td>52.546875</td>\n",
              "      <td>154.692708</td>\n",
              "      <td>40.156250</td>\n",
              "    </tr>\n",
              "    <tr>\n",
              "      <th>std</th>\n",
              "      <td>33.365780</td>\n",
              "      <td>187.843993</td>\n",
              "      <td>9.768877</td>\n",
              "    </tr>\n",
              "    <tr>\n",
              "      <th>min</th>\n",
              "      <td>13.000000</td>\n",
              "      <td>2.000000</td>\n",
              "      <td>10.000000</td>\n",
              "    </tr>\n",
              "    <tr>\n",
              "      <th>25%</th>\n",
              "      <td>30.000000</td>\n",
              "      <td>39.750000</td>\n",
              "      <td>34.750000</td>\n",
              "    </tr>\n",
              "    <tr>\n",
              "      <th>50%</th>\n",
              "      <td>43.500000</td>\n",
              "      <td>87.500000</td>\n",
              "      <td>44.000000</td>\n",
              "    </tr>\n",
              "    <tr>\n",
              "      <th>75%</th>\n",
              "      <td>65.000000</td>\n",
              "      <td>181.750000</td>\n",
              "      <td>47.000000</td>\n",
              "    </tr>\n",
              "    <tr>\n",
              "      <th>max</th>\n",
              "      <td>180.000000</td>\n",
              "      <td>1257.000000</td>\n",
              "      <td>50.000000</td>\n",
              "    </tr>\n",
              "  </tbody>\n",
              "</table>\n",
              "</div>"
            ],
            "text/plain": [
              "            price   difference      length\n",
              "count  192.000000   192.000000  192.000000\n",
              "mean    52.546875   154.692708   40.156250\n",
              "std     33.365780   187.843993    9.768877\n",
              "min     13.000000     2.000000   10.000000\n",
              "25%     30.000000    39.750000   34.750000\n",
              "50%     43.500000    87.500000   44.000000\n",
              "75%     65.000000   181.750000   47.000000\n",
              "max    180.000000  1257.000000   50.000000"
            ]
          },
          "metadata": {
            "tags": []
          },
          "execution_count": 42
        }
      ]
    },
    {
      "cell_type": "code",
      "metadata": {
        "id": "V7H9yha53p2s",
        "colab_type": "code",
        "colab": {
          "base_uri": "https://localhost:8080/",
          "height": 227
        },
        "outputId": "d0893571-51a0-42a2-b0c9-2698ac766239"
      },
      "source": [
        "# Compare medians by brand\n",
        "numeric_df.groupby('brand')['price', 'difference', 'length'].median().reset_index().rename(\n",
        "    columns={'brand':'Brand', 'price':'Price', 'difference':'Days Listed', 'length':'Title Length'})"
      ],
      "execution_count": 43,
      "outputs": [
        {
          "output_type": "stream",
          "text": [
            "/usr/local/lib/python3.6/dist-packages/ipykernel_launcher.py:1: FutureWarning: Indexing with multiple keys (implicitly converted to a tuple of keys) will be deprecated, use a list instead.\n",
            "  \"\"\"Entry point for launching an IPython kernel.\n"
          ],
          "name": "stderr"
        },
        {
          "output_type": "execute_result",
          "data": {
            "text/html": [
              "<div>\n",
              "<style scoped>\n",
              "    .dataframe tbody tr th:only-of-type {\n",
              "        vertical-align: middle;\n",
              "    }\n",
              "\n",
              "    .dataframe tbody tr th {\n",
              "        vertical-align: top;\n",
              "    }\n",
              "\n",
              "    .dataframe thead th {\n",
              "        text-align: right;\n",
              "    }\n",
              "</style>\n",
              "<table border=\"1\" class=\"dataframe\">\n",
              "  <thead>\n",
              "    <tr style=\"text-align: right;\">\n",
              "      <th></th>\n",
              "      <th>Brand</th>\n",
              "      <th>Price</th>\n",
              "      <th>Days Listed</th>\n",
              "      <th>Title Length</th>\n",
              "    </tr>\n",
              "  </thead>\n",
              "  <tbody>\n",
              "    <tr>\n",
              "      <th>0</th>\n",
              "      <td>Diesel</td>\n",
              "      <td>50.0</td>\n",
              "      <td>81.0</td>\n",
              "      <td>44.0</td>\n",
              "    </tr>\n",
              "    <tr>\n",
              "      <th>1</th>\n",
              "      <td>J. Crew</td>\n",
              "      <td>35.0</td>\n",
              "      <td>114.5</td>\n",
              "      <td>42.5</td>\n",
              "    </tr>\n",
              "    <tr>\n",
              "      <th>2</th>\n",
              "      <td>Levi's</td>\n",
              "      <td>30.0</td>\n",
              "      <td>71.5</td>\n",
              "      <td>42.0</td>\n",
              "    </tr>\n",
              "    <tr>\n",
              "      <th>3</th>\n",
              "      <td>Naked &amp; Famous Denim</td>\n",
              "      <td>70.0</td>\n",
              "      <td>84.5</td>\n",
              "      <td>45.5</td>\n",
              "    </tr>\n",
              "  </tbody>\n",
              "</table>\n",
              "</div>"
            ],
            "text/plain": [
              "                  Brand  Price  Days Listed  Title Length\n",
              "0                Diesel   50.0         81.0          44.0\n",
              "1               J. Crew   35.0        114.5          42.5\n",
              "2                Levi's   30.0         71.5          42.0\n",
              "3  Naked & Famous Denim   70.0         84.5          45.5"
            ]
          },
          "metadata": {
            "tags": []
          },
          "execution_count": 43
        }
      ]
    },
    {
      "cell_type": "code",
      "metadata": {
        "id": "-UrzGiRK3p2u",
        "colab_type": "code",
        "colab": {}
      },
      "source": [
        "# Export to CSV\n",
        "# df.to_csv('data/source_data.csv')\n",
        "# numeric_df.to_csv('data/numeric_data.csv')"
      ],
      "execution_count": 0,
      "outputs": []
    },
    {
      "cell_type": "markdown",
      "metadata": {
        "id": "MiiF7Yj93p2w",
        "colab_type": "text"
      },
      "source": [
        "## Visualizing the distributions\n",
        "\n",
        "Use `matplotlib` to plot and analyze the distributions in our data."
      ]
    },
    {
      "cell_type": "code",
      "metadata": {
        "id": "I6K7UG8x3p2w",
        "colab_type": "code",
        "colab": {}
      },
      "source": [
        "import matplotlib.pyplot as plt\n",
        "%matplotlib inline  "
      ],
      "execution_count": 0,
      "outputs": []
    },
    {
      "cell_type": "code",
      "metadata": {
        "id": "hk3nYOBk3p2y",
        "colab_type": "code",
        "colab": {
          "base_uri": "https://localhost:8080/",
          "height": 265
        },
        "outputId": "89eb7b2c-f28d-435b-9700-94697be5a5d8"
      },
      "source": [
        "df['price'].plot.hist(bins=12, alpha=0.5);"
      ],
      "execution_count": 46,
      "outputs": [
        {
          "output_type": "display_data",
          "data": {
            "image/png": "[encoded data removed]",
            "text/plain": [
              "<Figure size 432x288 with 1 Axes>"
            ]
          },
          "metadata": {
            "tags": [],
            "needs_background": "light"
          }
        }
      ]
    },
    {
      "cell_type": "code",
      "metadata": {
        "id": "HUPndJKo3p20",
        "colab_type": "code",
        "colab": {
          "base_uri": "https://localhost:8080/",
          "height": 1000
        },
        "outputId": "f04fd828-0eb2-4a35-f412-814f912dd72d"
      },
      "source": [
        "distinct_keys = df['brand'].unique()\n",
        "for key in distinct_keys:\n",
        "    plt.figure();\n",
        "    df_subset = df[df.brand==key]\n",
        "    df_subset['price'].plot.hist(bins=12, alpha=0.2, title=key);"
      ],
      "execution_count": 47,
      "outputs": [
        {
          "output_type": "display_data",
          "data": {
            "image/png": "[encoded data removed]",
            "text/plain": [
              "<Figure size 432x288 with 1 Axes>"
            ]
          },
          "metadata": {
            "tags": [],
            "needs_background": "light"
          }
        },
        {
          "output_type": "display_data",
          "data": {
            "image/png": "[encoded data removed]",
            "text/plain": [
              "<Figure size 432x288 with 1 Axes>"
            ]
          },
          "metadata": {
            "tags": [],
            "needs_background": "light"
          }
        },
        {
          "output_type": "display_data",
          "data": {
            "image/png": "[encoded data removed]",
            "text/plain": [
              "<Figure size 432x288 with 1 Axes>"
            ]
          },
          "metadata": {
            "tags": [],
            "needs_background": "light"
          }
        },
        {
          "output_type": "display_data",
          "data": {
            "image/png": "[encoded data removed]",
            "text/plain": [
              "<Figure size 432x288 with 1 Axes>"
            ]
          },
          "metadata": {
            "tags": [],
            "needs_background": "light"
          }
        }
      ]
    },
    {
      "cell_type": "code",
      "metadata": {
        "id": "hNRt228Y3p23",
        "colab_type": "code",
        "colab": {
          "base_uri": "https://localhost:8080/",
          "height": 265
        },
        "outputId": "35de28a8-4bad-48a1-af0b-1efe19cd2509"
      },
      "source": [
        "# Distribution of days listed\n",
        "df['difference'].plot.hist(bins=12, alpha=0.5);"
      ],
      "execution_count": 48,
      "outputs": [
        {
          "output_type": "display_data",
          "data": {
            "image/png": "[encoded data removed]",
            "text/plain": [
              "<Figure size 432x288 with 1 Axes>"
            ]
          },
          "metadata": {
            "tags": [],
            "needs_background": "light"
          }
        }
      ]
    },
    {
      "cell_type": "code",
      "metadata": {
        "scrolled": false,
        "id": "ZnRg8dEh3p26",
        "colab_type": "code",
        "colab": {
          "base_uri": "https://localhost:8080/",
          "height": 1000
        },
        "outputId": "c8662c2f-7c1a-435e-9160-945f98f562e9"
      },
      "source": [
        "distinct_keys = df['brand'].unique()\n",
        "for key in distinct_keys:\n",
        "    plt.figure();\n",
        "    df_subset = df[df.brand==key]\n",
        "    df_subset['difference'].plot.hist(bins=12, alpha=0.2, title=key);"
      ],
      "execution_count": 49,
      "outputs": [
        {
          "output_type": "display_data",
          "data": {
            "image/png": "[encoded data removed]",
            "text/plain": [
              "<Figure size 432x288 with 1 Axes>"
            ]
          },
          "metadata": {
            "tags": [],
            "needs_background": "light"
          }
        },
        {
          "output_type": "display_data",
          "data": {
            "image/png": "[encoded data removed]",
            "text/plain": [
              "<Figure size 432x288 with 1 Axes>"
            ]
          },
          "metadata": {
            "tags": [],
            "needs_background": "light"
          }
        },
        {
          "output_type": "display_data",
          "data": {
            "image/png": "[encoded data removed]",
            "text/plain": [
              "<Figure size 432x288 with 1 Axes>"
            ]
          },
          "metadata": {
            "tags": [],
            "needs_background": "light"
          }
        },
        {
          "output_type": "display_data",
          "data": {
            "image/png": "[encoded data removed]",
            "text/plain": [
              "<Figure size 432x288 with 1 Axes>"
            ]
          },
          "metadata": {
            "tags": [],
            "needs_background": "light"
          }
        }
      ]
    },
    {
      "cell_type": "code",
      "metadata": {
        "id": "FadL-QN83p2-",
        "colab_type": "code",
        "colab": {
          "base_uri": "https://localhost:8080/",
          "height": 265
        },
        "outputId": "35098ee0-e84d-4ac5-b585-eb3eda354c3a"
      },
      "source": [
        "# Distribution of title length\n",
        "df['length'].plot.hist(bins=12, alpha=0.5);"
      ],
      "execution_count": 50,
      "outputs": [
        {
          "output_type": "display_data",
          "data": {
            "image/png": "[encoded data removed]",
            "text/plain": [
              "<Figure size 432x288 with 1 Axes>"
            ]
          },
          "metadata": {
            "tags": [],
            "needs_background": "light"
          }
        }
      ]
    },
    {
      "cell_type": "code",
      "metadata": {
        "id": "swB4s-Lh3p3C",
        "colab_type": "code",
        "colab": {}
      },
      "source": [
        ""
      ],
      "execution_count": 0,
      "outputs": []
    },
    {
      "cell_type": "markdown",
      "metadata": {
        "id": "kMXutJHM3p3D",
        "colab_type": "text"
      },
      "source": [
        ""
      ]
    },
    {
      "cell_type": "code",
      "metadata": {
        "id": "OHdJCBjS3p3D",
        "colab_type": "code",
        "colab": {}
      },
      "source": [
        ""
      ],
      "execution_count": 0,
      "outputs": []
    }
  ]
}