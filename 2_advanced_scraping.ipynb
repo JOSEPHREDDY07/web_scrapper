{
  "nbformat": 4,
  "nbformat_minor": 0,
  "metadata": {
    "kernelspec": {
      "display_name": "Python 3",
      "language": "python",
      "name": "python3"
    },
    "language_info": {
      "codemirror_mode": {
        "name": "ipython",
        "version": 3
      },
      "file_extension": ".py",
      "mimetype": "text/x-python",
      "name": "python",
      "nbconvert_exporter": "python",
      "pygments_lexer": "ipython3",
      "version": "3.7.3"
    },
    "colab": {
      "name": "2-advanced-scraping.ipynb",
      "provenance": [],
      "include_colab_link": true
    }
  },
  "cells": [
    {
      "cell_type": "markdown",
      "metadata": {
        "id": "view-in-github",
        "colab_type": "text"
      },
      "source": [
        "<a href=\"https://colab.research.google.com/github/JOSEPHREDDY07/web_scrapper/blob/master/2_advanced_scraping.ipynb\" target=\"_parent\"><img src=\"https://colab.research.google.com/assets/colab-badge.svg\" alt=\"Open In Colab\"/></a>"
      ]
    },
    {
      "cell_type": "code",
      "metadata": {
        "id": "-s9gDdtG_K9r",
        "colab_type": "code",
        "colab": {
          "base_uri": "https://localhost:8080/",
          "height": 17
        },
        "outputId": "00658ccc-1ce8-4ec6-f03e-712208e28644"
      },
      "source": [
        "from IPython.core.display import HTML\n",
        "\n",
        "HTML(\"\"\"\n",
        "<style>\n",
        "    div.text_cell_render, .CodeMirror pre, div.output {\n",
        "        font-size: 1.2em;\n",
        "        line-height: 1.2em;\n",
        "    }\n",
        "    .container {\n",
        "        width: 100%;\n",
        "    }\n",
        "</style>\n",
        "\"\"\")"
      ],
      "execution_count": 1,
      "outputs": [
        {
          "output_type": "execute_result",
          "data": {
            "text/html": [
              "\n",
              "<style>\n",
              "    div.text_cell_render, .CodeMirror pre, div.output {\n",
              "        font-size: 1.2em;\n",
              "        line-height: 1.2em;\n",
              "    }\n",
              "    .container {\n",
              "        width: 100%;\n",
              "    }\n",
              "</style>\n"
            ],
            "text/plain": [
              "<IPython.core.display.HTML object>"
            ]
          },
          "metadata": {
            "tags": []
          },
          "execution_count": 1
        }
      ]
    },
    {
      "cell_type": "markdown",
      "metadata": {
        "id": "LHjcR0nC_K9z",
        "colab_type": "text"
      },
      "source": [
        "# Poshmark Pipeline MVP\n",
        "\n",
        "The goal of this pipeline is to scrape data from Poshmark, process it, store it, and visualize it. \n",
        "\n",
        "1. Scrape listings for 10 brands\n",
        "2. Store using pickle\n",
        "3. Format data and engineer features\n",
        "4. Store using pickle\n",
        "5. Explore and visualize using pandas"
      ]
    },
    {
      "cell_type": "code",
      "metadata": {
        "id": "978ucp0e_hw4",
        "colab_type": "code",
        "colab": {
          "base_uri": "https://localhost:8080/",
          "height": 139
        },
        "outputId": "c8ce6773-e394-4bc8-d5e9-3543cf9b99fa"
      },
      "source": [
        "!pip install selenium"
      ],
      "execution_count": 3,
      "outputs": [
        {
          "output_type": "stream",
          "text": [
            "Collecting selenium\n",
            "\u001b[?25l  Downloading https://files.pythonhosted.org/packages/80/d6/4294f0b4bce4de0abf13e17190289f9d0613b0a44e5dd6a7f5ca98459853/selenium-3.141.0-py2.py3-none-any.whl (904kB)\n",
            "\u001b[K     |████████████████████████████████| 911kB 2.9MB/s \n",
            "\u001b[?25hRequirement already satisfied: urllib3 in /usr/local/lib/python3.6/dist-packages (from selenium) (1.24.3)\n",
            "Installing collected packages: selenium\n",
            "Successfully installed selenium-3.141.0\n"
          ],
          "name": "stdout"
        }
      ]
    },
    {
      "cell_type": "code",
      "metadata": {
        "id": "cBMileav_tJI",
        "colab_type": "code",
        "colab": {
          "base_uri": "https://localhost:8080/",
          "height": 85
        },
        "outputId": "6c77cad4-8fb3-4ebe-e47b-414d547fd389"
      },
      "source": [
        "!pip install inflection"
      ],
      "execution_count": 5,
      "outputs": [
        {
          "output_type": "stream",
          "text": [
            "Collecting inflection\n",
            "  Downloading https://files.pythonhosted.org/packages/52/c1/36be286d85dbd76527fb613527222a795d7c071da195fa916e7bf3cb03cb/inflection-0.4.0-py2.py3-none-any.whl\n",
            "Installing collected packages: inflection\n",
            "Successfully installed inflection-0.4.0\n"
          ],
          "name": "stdout"
        }
      ]
    },
    {
      "cell_type": "code",
      "metadata": {
        "id": "CGXc3a8V_K90",
        "colab_type": "code",
        "colab": {}
      },
      "source": [
        "# Imports\n",
        "import os\n",
        "import pickle\n",
        "import logging\n",
        "from glob import glob\n",
        "from requests import get\n",
        "from datetime import datetime, date\n",
        "from time import sleep\n",
        "from functools import reduce\n",
        "\n",
        "from selenium import webdriver\n",
        "from selenium.webdriver.firefox.options import Options\n",
        "from bs4 import BeautifulSoup\n",
        "from dateutil.parser import parse\n",
        "from inflection import parameterize\n",
        "import numpy as np\n",
        "import pandas as pd\n",
        "import matplotlib.pyplot as plt\n",
        "%matplotlib inline "
      ],
      "execution_count": 0,
      "outputs": []
    },
    {
      "cell_type": "code",
      "metadata": {
        "id": "tj7CYA6e_fc-",
        "colab_type": "code",
        "colab": {}
      },
      "source": [
        ""
      ],
      "execution_count": 0,
      "outputs": []
    },
    {
      "cell_type": "code",
      "metadata": {
        "id": "bcp_aqoV_K92",
        "colab_type": "code",
        "colab": {}
      },
      "source": [
        "# Configure logging\n",
        "logging.basicConfig(filename='scraping.log', \n",
        "                    filemode='w', \n",
        "                    format='%(asctime)s - %(message)s', \n",
        "                    datefmt='%d-%b-%y %H:%M:%S')"
      ],
      "execution_count": 0,
      "outputs": []
    },
    {
      "cell_type": "code",
      "metadata": {
        "id": "Tk4EI3Uk_K95",
        "colab_type": "code",
        "colab": {}
      },
      "source": [
        "# Constants\n",
        "HEADER = { 'user-agent': 'Mozilla/5.0 (Macintosh; Intel Mac OS X 10_11_6) AppleWebKit/537.36 (KHTML, like Gecko) Chrome/53.0.2785.143 Safari/537.36'}\n",
        "TODAY = date.today().strftime(\"%m_%d_%Y\")"
      ],
      "execution_count": 0,
      "outputs": []
    },
    {
      "cell_type": "code",
      "metadata": {
        "id": "w6QATVEj_K9-",
        "colab_type": "code",
        "colab": {
          "base_uri": "https://localhost:8080/",
          "height": 34
        },
        "outputId": "7ed2c94d-640f-4bcc-ad0e-9bfffe0c0dab"
      },
      "source": [
        "1"
      ],
      "execution_count": 12,
      "outputs": [
        {
          "output_type": "execute_result",
          "data": {
            "text/plain": [
              "1"
            ]
          },
          "metadata": {
            "tags": []
          },
          "execution_count": 12
        }
      ]
    },
    {
      "cell_type": "code",
      "metadata": {
        "id": "TvldJnSE_K-C",
        "colab_type": "code",
        "colab": {}
      },
      "source": [
        "# Functions to download web pages\n",
        "def download_page(url):\n",
        "    \"Download HTML source for a given URL\"\n",
        "    response = get(url, headers=HEADER)\n",
        "    return response\n",
        "\n",
        "def headless_download_page(url):\n",
        "    \"Download HTML source for the given city using a headless Firefox instance\"\n",
        "    options = Options()\n",
        "#     options.headless = True\n",
        "    driver = webdriver.Firefox(options=options)\n",
        "    driver.get(url)\n",
        "    sleep(5)\n",
        "    html_text = driver.page_source\n",
        "    \n",
        "    return html_text\n",
        "\n",
        "def collect_pages(brand):\n",
        "    \"Collect all the pages for a given search query\"\n",
        "    count = 1\n",
        "    more_pages = True\n",
        "    pages = []\n",
        "\n",
        "    while more_pages:\n",
        "        url = f\"https://poshmark.com/brand/{brand}-Men-Jeans?availability=all&sort_by=added_desc&max_id={count}\"\n",
        "        print(url)\n",
        "        page = headless_download_page(url)\n",
        "        pages.append(page)\n",
        "        count += 1\n",
        "        sleep(5)\n",
        "        \n",
        "        soup = BeautifulSoup(page, 'html.parser')\n",
        "        btns = soup.find_all('button', class_ = 'btn--pagination')\n",
        "\n",
        "        if btns[-1].has_attr('disabled'):\n",
        "            more_pages = False\n",
        "        \n",
        "        if count == 11:\n",
        "            more_pages = False\n",
        "        \n",
        "    return pages"
      ],
      "execution_count": 0,
      "outputs": []
    },
    {
      "cell_type": "code",
      "metadata": {
        "id": "uNjwHyK0AqAE",
        "colab_type": "code",
        "colab": {
          "base_uri": "https://localhost:8080/",
          "height": 425
        },
        "outputId": "78bf1ee7-f320-4698-88fb-6400d07010d4"
      },
      "source": [
        "text = headless_download_page(\"https://poshmark.com/brand/Diesel-Men-Jeans?sort_by=added_desc&max_id=2\")"
      ],
      "execution_count": 13,
      "outputs": [
        {
          "output_type": "error",
          "ename": "WebDriverException",
          "evalue": "ignored",
          "traceback": [
            "\u001b[0;31m---------------------------------------------------------------------------\u001b[0m",
            "\u001b[0;31mFileNotFoundError\u001b[0m                         Traceback (most recent call last)",
            "\u001b[0;32m/usr/local/lib/python3.6/dist-packages/selenium/webdriver/common/service.py\u001b[0m in \u001b[0;36mstart\u001b[0;34m(self)\u001b[0m\n\u001b[1;32m     75\u001b[0m                                             \u001b[0mstderr\u001b[0m\u001b[0;34m=\u001b[0m\u001b[0mself\u001b[0m\u001b[0;34m.\u001b[0m\u001b[0mlog_file\u001b[0m\u001b[0;34m,\u001b[0m\u001b[0;34m\u001b[0m\u001b[0;34m\u001b[0m\u001b[0m\n\u001b[0;32m---> 76\u001b[0;31m                                             stdin=PIPE)\n\u001b[0m\u001b[1;32m     77\u001b[0m         \u001b[0;32mexcept\u001b[0m \u001b[0mTypeError\u001b[0m\u001b[0;34m:\u001b[0m\u001b[0;34m\u001b[0m\u001b[0;34m\u001b[0m\u001b[0m\n",
            "\u001b[0;32m/usr/lib/python3.6/subprocess.py\u001b[0m in \u001b[0;36m__init__\u001b[0;34m(self, args, bufsize, executable, stdin, stdout, stderr, preexec_fn, close_fds, shell, cwd, env, universal_newlines, startupinfo, creationflags, restore_signals, start_new_session, pass_fds, encoding, errors)\u001b[0m\n\u001b[1;32m    728\u001b[0m                                 \u001b[0merrread\u001b[0m\u001b[0;34m,\u001b[0m \u001b[0merrwrite\u001b[0m\u001b[0;34m,\u001b[0m\u001b[0;34m\u001b[0m\u001b[0;34m\u001b[0m\u001b[0m\n\u001b[0;32m--> 729\u001b[0;31m                                 restore_signals, start_new_session)\n\u001b[0m\u001b[1;32m    730\u001b[0m         \u001b[0;32mexcept\u001b[0m\u001b[0;34m:\u001b[0m\u001b[0;34m\u001b[0m\u001b[0;34m\u001b[0m\u001b[0m\n",
            "\u001b[0;32m/usr/lib/python3.6/subprocess.py\u001b[0m in \u001b[0;36m_execute_child\u001b[0;34m(self, args, executable, preexec_fn, close_fds, pass_fds, cwd, env, startupinfo, creationflags, shell, p2cread, p2cwrite, c2pread, c2pwrite, errread, errwrite, restore_signals, start_new_session)\u001b[0m\n\u001b[1;32m   1363\u001b[0m                             \u001b[0merr_msg\u001b[0m \u001b[0;34m+=\u001b[0m \u001b[0;34m': '\u001b[0m \u001b[0;34m+\u001b[0m \u001b[0mrepr\u001b[0m\u001b[0;34m(\u001b[0m\u001b[0merr_filename\u001b[0m\u001b[0;34m)\u001b[0m\u001b[0;34m\u001b[0m\u001b[0;34m\u001b[0m\u001b[0m\n\u001b[0;32m-> 1364\u001b[0;31m                     \u001b[0;32mraise\u001b[0m \u001b[0mchild_exception_type\u001b[0m\u001b[0;34m(\u001b[0m\u001b[0merrno_num\u001b[0m\u001b[0;34m,\u001b[0m \u001b[0merr_msg\u001b[0m\u001b[0;34m,\u001b[0m \u001b[0merr_filename\u001b[0m\u001b[0;34m)\u001b[0m\u001b[0;34m\u001b[0m\u001b[0;34m\u001b[0m\u001b[0m\n\u001b[0m\u001b[1;32m   1365\u001b[0m                 \u001b[0;32mraise\u001b[0m \u001b[0mchild_exception_type\u001b[0m\u001b[0;34m(\u001b[0m\u001b[0merr_msg\u001b[0m\u001b[0;34m)\u001b[0m\u001b[0;34m\u001b[0m\u001b[0;34m\u001b[0m\u001b[0m\n",
            "\u001b[0;31mFileNotFoundError\u001b[0m: [Errno 2] No such file or directory: 'geckodriver': 'geckodriver'",
            "\nDuring handling of the above exception, another exception occurred:\n",
            "\u001b[0;31mWebDriverException\u001b[0m                        Traceback (most recent call last)",
            "\u001b[0;32m<ipython-input-13-7624593d55e9>\u001b[0m in \u001b[0;36m<module>\u001b[0;34m()\u001b[0m\n\u001b[0;32m----> 1\u001b[0;31m \u001b[0mtext\u001b[0m \u001b[0;34m=\u001b[0m \u001b[0mheadless_download_page\u001b[0m\u001b[0;34m(\u001b[0m\u001b[0;34m\"https://poshmark.com/brand/Diesel-Men-Jeans?sort_by=added_desc&max_id=2\"\u001b[0m\u001b[0;34m)\u001b[0m\u001b[0;34m\u001b[0m\u001b[0;34m\u001b[0m\u001b[0m\n\u001b[0m",
            "\u001b[0;32m<ipython-input-11-21eade14fe89>\u001b[0m in \u001b[0;36mheadless_download_page\u001b[0;34m(url)\u001b[0m\n\u001b[1;32m      8\u001b[0m     \u001b[0moptions\u001b[0m \u001b[0;34m=\u001b[0m \u001b[0mOptions\u001b[0m\u001b[0;34m(\u001b[0m\u001b[0;34m)\u001b[0m\u001b[0;34m\u001b[0m\u001b[0;34m\u001b[0m\u001b[0m\n\u001b[1;32m      9\u001b[0m \u001b[0;31m#     options.headless = True\u001b[0m\u001b[0;34m\u001b[0m\u001b[0;34m\u001b[0m\u001b[0;34m\u001b[0m\u001b[0m\n\u001b[0;32m---> 10\u001b[0;31m     \u001b[0mdriver\u001b[0m \u001b[0;34m=\u001b[0m \u001b[0mwebdriver\u001b[0m\u001b[0;34m.\u001b[0m\u001b[0mFirefox\u001b[0m\u001b[0;34m(\u001b[0m\u001b[0moptions\u001b[0m\u001b[0;34m=\u001b[0m\u001b[0moptions\u001b[0m\u001b[0;34m)\u001b[0m\u001b[0;34m\u001b[0m\u001b[0;34m\u001b[0m\u001b[0m\n\u001b[0m\u001b[1;32m     11\u001b[0m     \u001b[0mdriver\u001b[0m\u001b[0;34m.\u001b[0m\u001b[0mget\u001b[0m\u001b[0;34m(\u001b[0m\u001b[0murl\u001b[0m\u001b[0;34m)\u001b[0m\u001b[0;34m\u001b[0m\u001b[0;34m\u001b[0m\u001b[0m\n\u001b[1;32m     12\u001b[0m     \u001b[0msleep\u001b[0m\u001b[0;34m(\u001b[0m\u001b[0;36m5\u001b[0m\u001b[0;34m)\u001b[0m\u001b[0;34m\u001b[0m\u001b[0;34m\u001b[0m\u001b[0m\n",
            "\u001b[0;32m/usr/local/lib/python3.6/dist-packages/selenium/webdriver/firefox/webdriver.py\u001b[0m in \u001b[0;36m__init__\u001b[0;34m(self, firefox_profile, firefox_binary, timeout, capabilities, proxy, executable_path, options, service_log_path, firefox_options, service_args, desired_capabilities, log_path, keep_alive)\u001b[0m\n\u001b[1;32m    162\u001b[0m                 \u001b[0mservice_args\u001b[0m\u001b[0;34m=\u001b[0m\u001b[0mservice_args\u001b[0m\u001b[0;34m,\u001b[0m\u001b[0;34m\u001b[0m\u001b[0;34m\u001b[0m\u001b[0m\n\u001b[1;32m    163\u001b[0m                 log_path=service_log_path)\n\u001b[0;32m--> 164\u001b[0;31m             \u001b[0mself\u001b[0m\u001b[0;34m.\u001b[0m\u001b[0mservice\u001b[0m\u001b[0;34m.\u001b[0m\u001b[0mstart\u001b[0m\u001b[0;34m(\u001b[0m\u001b[0;34m)\u001b[0m\u001b[0;34m\u001b[0m\u001b[0;34m\u001b[0m\u001b[0m\n\u001b[0m\u001b[1;32m    165\u001b[0m \u001b[0;34m\u001b[0m\u001b[0m\n\u001b[1;32m    166\u001b[0m             \u001b[0mcapabilities\u001b[0m\u001b[0;34m.\u001b[0m\u001b[0mupdate\u001b[0m\u001b[0;34m(\u001b[0m\u001b[0moptions\u001b[0m\u001b[0;34m.\u001b[0m\u001b[0mto_capabilities\u001b[0m\u001b[0;34m(\u001b[0m\u001b[0;34m)\u001b[0m\u001b[0;34m)\u001b[0m\u001b[0;34m\u001b[0m\u001b[0;34m\u001b[0m\u001b[0m\n",
            "\u001b[0;32m/usr/local/lib/python3.6/dist-packages/selenium/webdriver/common/service.py\u001b[0m in \u001b[0;36mstart\u001b[0;34m(self)\u001b[0m\n\u001b[1;32m     81\u001b[0m                 raise WebDriverException(\n\u001b[1;32m     82\u001b[0m                     \"'%s' executable needs to be in PATH. %s\" % (\n\u001b[0;32m---> 83\u001b[0;31m                         os.path.basename(self.path), self.start_error_message)\n\u001b[0m\u001b[1;32m     84\u001b[0m                 )\n\u001b[1;32m     85\u001b[0m             \u001b[0;32melif\u001b[0m \u001b[0merr\u001b[0m\u001b[0;34m.\u001b[0m\u001b[0merrno\u001b[0m \u001b[0;34m==\u001b[0m \u001b[0merrno\u001b[0m\u001b[0;34m.\u001b[0m\u001b[0mEACCES\u001b[0m\u001b[0;34m:\u001b[0m\u001b[0;34m\u001b[0m\u001b[0;34m\u001b[0m\u001b[0m\n",
            "\u001b[0;31mWebDriverException\u001b[0m: Message: 'geckodriver' executable needs to be in PATH. \n"
          ]
        }
      ]
    },
    {
      "cell_type": "code",
      "metadata": {
        "id": "y1XvJi5M_K-E",
        "colab_type": "code",
        "colab": {}
      },
      "source": [
        "# Functions to extract data from HTML\n",
        "def create_soup(source):\n",
        "    \"Convert HTML source to BeautifulSoup object\"\n",
        "    soup = BeautifulSoup(source, 'html.parser')\n",
        "    return soup\n",
        "\n",
        "def extract_tiles(soup):\n",
        "    \"Extract all the clothing tile elements\"\n",
        "    containers = soup.find_all('div', class_ = 'tile')\n",
        "    return containers\n",
        "\n",
        "def extract_title(tile):\n",
        "    \"Extract the title string from a tile\"\n",
        "    try:\n",
        "        title = tile.find('a', class_='tile__title').get_text(strip=True)\n",
        "    except:\n",
        "        title = ''\n",
        "        \n",
        "    return title\n",
        "\n",
        "def extract_status(tile):\n",
        "    \"Extract the status from a tile\"\n",
        "    try:\n",
        "        status = tile.find('span', class_='condition-tag').get_text(strip=True)\n",
        "    except:\n",
        "        status = ''\n",
        "        \n",
        "    return status\n",
        "\n",
        "def extract_stock(tile):\n",
        "    \"Extract the stock status from a tile\"\n",
        "    try:\n",
        "        stock = tile.find('i', class_='sold-tag').get_text(strip=True)\n",
        "    except:\n",
        "        stock = ''\n",
        "        \n",
        "    return stock\n",
        "\n",
        "def extract_price(tile):\n",
        "    \"Extract the price integer from a tile\"\n",
        "    try:\n",
        "        price = tile.find('span', attrs={'data-test': 'tile-price'}).get_text(strip=True)\n",
        "    except:\n",
        "        price = ''\n",
        "    \n",
        "    return price\n",
        "\n",
        "def extract_size(tile):\n",
        "    \"Extract the size integer from a tile\"\n",
        "    try:\n",
        "        size = tile.find('a', attrs={'data-test': 'tile-size'}).get_text(strip=True)\n",
        "    except:\n",
        "        size = ''\n",
        "    \n",
        "    return size\n",
        "\n",
        "def extract_brand(tile):\n",
        "    \"Extract the brand string from a tile\"\n",
        "    try:\n",
        "        brand = tile.find('a', attrs={'data-test': 'tile-brand'}).get_text(strip=True)\n",
        "    except:\n",
        "        brand = ''\n",
        "    \n",
        "    return brand\n",
        "\n",
        "def extract_link(tile):\n",
        "    \"Extract the link string from a tile\"\n",
        "    try:\n",
        "        link = tile.find('a', class_='tile__title').get('href')\n",
        "    except:\n",
        "        link = ''\n",
        "    \n",
        "    return link\n",
        "\n",
        "def extract_image(tile):\n",
        "    \"Extract the image link string from a tile\"\n",
        "    try:\n",
        "        image = tile.find('img').get('data-src')\n",
        "    except:\n",
        "        image = ''\n",
        "    \n",
        "    return image\n",
        "    \n",
        "def extract_date(url):\n",
        "    \"Extract the posting date from a url\"\n",
        "    \n",
        "    try:\n",
        "        start = url.find('20')\n",
        "        end = start + 10\n",
        "        date = url[start:end]\n",
        "    except:\n",
        "        date = ''\n",
        "    \n",
        "    return date\n",
        "\n",
        "def combine_data(tile):\n",
        "    \"Run independent functions and return object of all values\"\n",
        "    title = extract_title(tile)\n",
        "    status = extract_status(tile)\n",
        "    stock = extract_stock(tile)\n",
        "    price = extract_price(tile)\n",
        "    size = extract_size(tile)\n",
        "    brand = extract_brand(tile)\n",
        "    link = extract_link(tile)\n",
        "    image = extract_image(tile)\n",
        "    date = extract_date(image)\n",
        "        \n",
        "    return {\n",
        "        'title': title,\n",
        "        'status': status,\n",
        "        'stock': stock,\n",
        "        'price': price,\n",
        "        'size': size,\n",
        "        'brand': brand,\n",
        "        'link': link,\n",
        "        'image': image,\n",
        "        'date': date,\n",
        "    }"
      ],
      "execution_count": 0,
      "outputs": []
    },
    {
      "cell_type": "code",
      "metadata": {
        "id": "10T04aml_K-I",
        "colab_type": "code",
        "colab": {}
      },
      "source": [
        "# Functions to format the data\n",
        "def format_price(price_value):\n",
        "    \"Remove extra text and convert to int\"\n",
        "    try:\n",
        "        price = int(price_value.replace('$', ''))\n",
        "    except:\n",
        "        price = np.nan\n",
        "        \n",
        "    return price\n",
        "\n",
        "def format_size(size_value):\n",
        "    \"Remove extra text and convert to int\"\n",
        "    try:    \n",
        "        size = int(size_value.replace('Size: ', ''))\n",
        "    except:\n",
        "        size = np.nan\n",
        "        \n",
        "    return size\n",
        "\n",
        "def format_brand(brand_value):\n",
        "    \"Make universal format\"\n",
        "    try:    \n",
        "        brand = parameterize(brand_value, '_')\n",
        "    except:\n",
        "        brand = ''\n",
        "        \n",
        "    return brand\n",
        "\n",
        "def format_link(link_value):\n",
        "    \"Add domain to link value\"\n",
        "    try:\n",
        "        link = 'http://www.poshmark.com' + link_value\n",
        "    except:\n",
        "        link = ''\n",
        "        \n",
        "    return link\n",
        "\n",
        "def format_date(date_value):\n",
        "    \"Convert string date to datetime\"\n",
        "    try:\n",
        "        date = parse(date_value)\n",
        "    except:\n",
        "        date = np.nan\n",
        "        \n",
        "    return date\n",
        "\n",
        "def format_record(record):\n",
        "    \"Format individual values of the record\"\n",
        "    record['price'] = format_price(record['price'])\n",
        "    record['size'] = format_size(record['size'])\n",
        "    record['brand'] = format_brand(record['brand'])\n",
        "    record['link'] = format_link(record['link'])\n",
        "    record['date'] = format_date(record['date'])\n",
        "    \n",
        "    return record"
      ],
      "execution_count": 0,
      "outputs": []
    },
    {
      "cell_type": "code",
      "metadata": {
        "id": "UK9NHFwe_K-K",
        "colab_type": "code",
        "colab": {}
      },
      "source": [
        "# Functions to create new features\n",
        "def find_diff(date):\n",
        "    \"Find the amount of days an item has been listed\"\n",
        "    try:\n",
        "        now = datetime.now()\n",
        "        diff = abs((date-now).days)\n",
        "    except:\n",
        "        diff = np.nan\n",
        "        \n",
        "    return diff\n",
        "\n",
        "def calculate_length(title):\n",
        "    \"Find the length of the title\"\n",
        "    try:\n",
        "        length = len(title)\n",
        "    except:\n",
        "        length = np.nan\n",
        "    \n",
        "    return length\n",
        "\n",
        "def identify_condition(status):\n",
        "    \"Create boolean value for condition status\"\n",
        "    try:\n",
        "        condition = bool(status)\n",
        "    except:\n",
        "        condition = False\n",
        "    \n",
        "    return condition\n",
        "\n",
        "def check_stock(stock):\n",
        "    \"Create boolean value for stock status\"\n",
        "    try:\n",
        "        condition = bool(stock)\n",
        "    except:\n",
        "        condition = False\n",
        "    \n",
        "    return condition\n",
        "\n",
        "def create_features(record):\n",
        "    \"Create new features from record data\"\n",
        "    record['diff'] = find_diff(record['date'])\n",
        "    record['length'] = calculate_length(record['title'])\n",
        "    record['nwt'] = identify_condition(record['status'])\n",
        "    record['sold'] = check_stock(record['stock'])\n",
        "    \n",
        "    return record"
      ],
      "execution_count": 0,
      "outputs": []
    },
    {
      "cell_type": "code",
      "metadata": {
        "id": "FT7TNhJl_K-N",
        "colab_type": "code",
        "colab": {},
        "outputId": "f64d52a3-64df-4b06-f799-53457ea636a2"
      },
      "source": [
        "# Extract raw data for multiple brands\n",
        "brands = [\n",
        "    'J._Crew', 'Naked_&_Famous_Denim', \"Levi's\", \n",
        "    'Diesel', 'Hugo_Boss', 'Mavi', 'Big_Star', \n",
        "    'Lucky_Brand', \"Joes's_Jeans\", 'True_Religion', \n",
        "    'Wrangler', 'Gap', 'Uniqlo'\n",
        "    ]\n",
        "\n",
        "for tag in brands:\n",
        "    print('Scraping', tag)\n",
        "    pages = collect_pages(tag)\n",
        "    soup_objs = [create_soup(page) for page in pages]\n",
        "    item_tiles = [extract_tiles(soup) for soup in soup_objs]\n",
        "    combined_tiles = reduce(lambda x,y: x+y, item_tiles)\n",
        "    item_objs = [combine_data(tile) for tile in combined_tiles]\n",
        "\n",
        "    brand_name = parameterize(tag, '_')\n",
        "    pickle.dump(item_objs, open(f\"./data/raw/{brand_name}_{TODAY}.p\", 'wb'))\n",
        "    logging.info(f\"Scraped {tag} page, found {len(item_objs)} items\")\n",
        "    \n",
        "    sleep(2)"
      ],
      "execution_count": 0,
      "outputs": [
        {
          "output_type": "stream",
          "text": [
            "Scraping J._Crew\n",
            "https://poshmark.com/brand/J._Crew-Men-Jeans?availability=all&sort_by=added_desc&max_id=1\n",
            "https://poshmark.com/brand/J._Crew-Men-Jeans?availability=all&sort_by=added_desc&max_id=2\n",
            "https://poshmark.com/brand/J._Crew-Men-Jeans?availability=all&sort_by=added_desc&max_id=3\n",
            "https://poshmark.com/brand/J._Crew-Men-Jeans?availability=all&sort_by=added_desc&max_id=4\n",
            "https://poshmark.com/brand/J._Crew-Men-Jeans?availability=all&sort_by=added_desc&max_id=5\n",
            "https://poshmark.com/brand/J._Crew-Men-Jeans?availability=all&sort_by=added_desc&max_id=6\n",
            "https://poshmark.com/brand/J._Crew-Men-Jeans?availability=all&sort_by=added_desc&max_id=7\n",
            "https://poshmark.com/brand/J._Crew-Men-Jeans?availability=all&sort_by=added_desc&max_id=8\n",
            "https://poshmark.com/brand/J._Crew-Men-Jeans?availability=all&sort_by=added_desc&max_id=9\n",
            "https://poshmark.com/brand/J._Crew-Men-Jeans?availability=all&sort_by=added_desc&max_id=10\n",
            "Scraping Naked_&_Famous_Denim\n",
            "https://poshmark.com/brand/Naked_&_Famous_Denim-Men-Jeans?availability=all&sort_by=added_desc&max_id=1\n",
            "https://poshmark.com/brand/Naked_&_Famous_Denim-Men-Jeans?availability=all&sort_by=added_desc&max_id=2\n",
            "https://poshmark.com/brand/Naked_&_Famous_Denim-Men-Jeans?availability=all&sort_by=added_desc&max_id=3\n",
            "https://poshmark.com/brand/Naked_&_Famous_Denim-Men-Jeans?availability=all&sort_by=added_desc&max_id=4\n",
            "https://poshmark.com/brand/Naked_&_Famous_Denim-Men-Jeans?availability=all&sort_by=added_desc&max_id=5\n",
            "https://poshmark.com/brand/Naked_&_Famous_Denim-Men-Jeans?availability=all&sort_by=added_desc&max_id=6\n",
            "https://poshmark.com/brand/Naked_&_Famous_Denim-Men-Jeans?availability=all&sort_by=added_desc&max_id=7\n",
            "https://poshmark.com/brand/Naked_&_Famous_Denim-Men-Jeans?availability=all&sort_by=added_desc&max_id=8\n",
            "https://poshmark.com/brand/Naked_&_Famous_Denim-Men-Jeans?availability=all&sort_by=added_desc&max_id=9\n",
            "https://poshmark.com/brand/Naked_&_Famous_Denim-Men-Jeans?availability=all&sort_by=added_desc&max_id=10\n",
            "Scraping Levi's\n",
            "https://poshmark.com/brand/Levi's-Men-Jeans?availability=all&sort_by=added_desc&max_id=1\n",
            "https://poshmark.com/brand/Levi's-Men-Jeans?availability=all&sort_by=added_desc&max_id=2\n",
            "https://poshmark.com/brand/Levi's-Men-Jeans?availability=all&sort_by=added_desc&max_id=3\n",
            "https://poshmark.com/brand/Levi's-Men-Jeans?availability=all&sort_by=added_desc&max_id=4\n",
            "https://poshmark.com/brand/Levi's-Men-Jeans?availability=all&sort_by=added_desc&max_id=5\n",
            "https://poshmark.com/brand/Levi's-Men-Jeans?availability=all&sort_by=added_desc&max_id=6\n",
            "https://poshmark.com/brand/Levi's-Men-Jeans?availability=all&sort_by=added_desc&max_id=7\n",
            "https://poshmark.com/brand/Levi's-Men-Jeans?availability=all&sort_by=added_desc&max_id=8\n",
            "https://poshmark.com/brand/Levi's-Men-Jeans?availability=all&sort_by=added_desc&max_id=9\n",
            "https://poshmark.com/brand/Levi's-Men-Jeans?availability=all&sort_by=added_desc&max_id=10\n",
            "Scraping Diesel\n",
            "https://poshmark.com/brand/Diesel-Men-Jeans?availability=all&sort_by=added_desc&max_id=1\n",
            "https://poshmark.com/brand/Diesel-Men-Jeans?availability=all&sort_by=added_desc&max_id=2\n",
            "https://poshmark.com/brand/Diesel-Men-Jeans?availability=all&sort_by=added_desc&max_id=3\n",
            "https://poshmark.com/brand/Diesel-Men-Jeans?availability=all&sort_by=added_desc&max_id=4\n",
            "https://poshmark.com/brand/Diesel-Men-Jeans?availability=all&sort_by=added_desc&max_id=5\n",
            "https://poshmark.com/brand/Diesel-Men-Jeans?availability=all&sort_by=added_desc&max_id=6\n",
            "https://poshmark.com/brand/Diesel-Men-Jeans?availability=all&sort_by=added_desc&max_id=7\n",
            "https://poshmark.com/brand/Diesel-Men-Jeans?availability=all&sort_by=added_desc&max_id=8\n",
            "https://poshmark.com/brand/Diesel-Men-Jeans?availability=all&sort_by=added_desc&max_id=9\n",
            "https://poshmark.com/brand/Diesel-Men-Jeans?availability=all&sort_by=added_desc&max_id=10\n",
            "Scraping Hugo_Boss\n",
            "https://poshmark.com/brand/Hugo_Boss-Men-Jeans?availability=all&sort_by=added_desc&max_id=1\n",
            "https://poshmark.com/brand/Hugo_Boss-Men-Jeans?availability=all&sort_by=added_desc&max_id=2\n",
            "https://poshmark.com/brand/Hugo_Boss-Men-Jeans?availability=all&sort_by=added_desc&max_id=3\n",
            "https://poshmark.com/brand/Hugo_Boss-Men-Jeans?availability=all&sort_by=added_desc&max_id=4\n",
            "https://poshmark.com/brand/Hugo_Boss-Men-Jeans?availability=all&sort_by=added_desc&max_id=5\n",
            "https://poshmark.com/brand/Hugo_Boss-Men-Jeans?availability=all&sort_by=added_desc&max_id=6\n",
            "https://poshmark.com/brand/Hugo_Boss-Men-Jeans?availability=all&sort_by=added_desc&max_id=7\n",
            "https://poshmark.com/brand/Hugo_Boss-Men-Jeans?availability=all&sort_by=added_desc&max_id=8\n",
            "https://poshmark.com/brand/Hugo_Boss-Men-Jeans?availability=all&sort_by=added_desc&max_id=9\n",
            "https://poshmark.com/brand/Hugo_Boss-Men-Jeans?availability=all&sort_by=added_desc&max_id=10\n",
            "Scraping Mavi\n",
            "https://poshmark.com/brand/Mavi-Men-Jeans?availability=all&sort_by=added_desc&max_id=1\n",
            "https://poshmark.com/brand/Mavi-Men-Jeans?availability=all&sort_by=added_desc&max_id=2\n",
            "https://poshmark.com/brand/Mavi-Men-Jeans?availability=all&sort_by=added_desc&max_id=3\n",
            "https://poshmark.com/brand/Mavi-Men-Jeans?availability=all&sort_by=added_desc&max_id=4\n",
            "https://poshmark.com/brand/Mavi-Men-Jeans?availability=all&sort_by=added_desc&max_id=5\n",
            "https://poshmark.com/brand/Mavi-Men-Jeans?availability=all&sort_by=added_desc&max_id=6\n",
            "https://poshmark.com/brand/Mavi-Men-Jeans?availability=all&sort_by=added_desc&max_id=7\n",
            "https://poshmark.com/brand/Mavi-Men-Jeans?availability=all&sort_by=added_desc&max_id=8\n",
            "https://poshmark.com/brand/Mavi-Men-Jeans?availability=all&sort_by=added_desc&max_id=9\n",
            "https://poshmark.com/brand/Mavi-Men-Jeans?availability=all&sort_by=added_desc&max_id=10\n",
            "Scraping Big_Star\n",
            "https://poshmark.com/brand/Big_Star-Men-Jeans?availability=all&sort_by=added_desc&max_id=1\n",
            "https://poshmark.com/brand/Big_Star-Men-Jeans?availability=all&sort_by=added_desc&max_id=2\n",
            "https://poshmark.com/brand/Big_Star-Men-Jeans?availability=all&sort_by=added_desc&max_id=3\n",
            "https://poshmark.com/brand/Big_Star-Men-Jeans?availability=all&sort_by=added_desc&max_id=4\n",
            "https://poshmark.com/brand/Big_Star-Men-Jeans?availability=all&sort_by=added_desc&max_id=5\n",
            "https://poshmark.com/brand/Big_Star-Men-Jeans?availability=all&sort_by=added_desc&max_id=6\n",
            "https://poshmark.com/brand/Big_Star-Men-Jeans?availability=all&sort_by=added_desc&max_id=7\n",
            "https://poshmark.com/brand/Big_Star-Men-Jeans?availability=all&sort_by=added_desc&max_id=8\n",
            "https://poshmark.com/brand/Big_Star-Men-Jeans?availability=all&sort_by=added_desc&max_id=9\n",
            "https://poshmark.com/brand/Big_Star-Men-Jeans?availability=all&sort_by=added_desc&max_id=10\n",
            "Scraping Lucky_Brand\n",
            "https://poshmark.com/brand/Lucky_Brand-Men-Jeans?availability=all&sort_by=added_desc&max_id=1\n",
            "https://poshmark.com/brand/Lucky_Brand-Men-Jeans?availability=all&sort_by=added_desc&max_id=2\n",
            "https://poshmark.com/brand/Lucky_Brand-Men-Jeans?availability=all&sort_by=added_desc&max_id=3\n",
            "https://poshmark.com/brand/Lucky_Brand-Men-Jeans?availability=all&sort_by=added_desc&max_id=4\n",
            "https://poshmark.com/brand/Lucky_Brand-Men-Jeans?availability=all&sort_by=added_desc&max_id=5\n",
            "https://poshmark.com/brand/Lucky_Brand-Men-Jeans?availability=all&sort_by=added_desc&max_id=6\n",
            "https://poshmark.com/brand/Lucky_Brand-Men-Jeans?availability=all&sort_by=added_desc&max_id=7\n",
            "https://poshmark.com/brand/Lucky_Brand-Men-Jeans?availability=all&sort_by=added_desc&max_id=8\n",
            "https://poshmark.com/brand/Lucky_Brand-Men-Jeans?availability=all&sort_by=added_desc&max_id=9\n",
            "https://poshmark.com/brand/Lucky_Brand-Men-Jeans?availability=all&sort_by=added_desc&max_id=10\n",
            "Scraping Joes's_Jeans\n",
            "https://poshmark.com/brand/Joes's_Jeans-Men-Jeans?availability=all&sort_by=added_desc&max_id=1\n"
          ],
          "name": "stdout"
        },
        {
          "output_type": "error",
          "ename": "IndexError",
          "evalue": "list index out of range",
          "traceback": [
            "\u001b[0;31m---------------------------------------------------------------------------\u001b[0m",
            "\u001b[0;31mIndexError\u001b[0m                                Traceback (most recent call last)",
            "\u001b[0;32m<ipython-input-16-80aea04bfe30>\u001b[0m in \u001b[0;36m<module>\u001b[0;34m\u001b[0m\n\u001b[1;32m      9\u001b[0m \u001b[0;32mfor\u001b[0m \u001b[0mtag\u001b[0m \u001b[0;32min\u001b[0m \u001b[0mbrands\u001b[0m\u001b[0;34m:\u001b[0m\u001b[0;34m\u001b[0m\u001b[0;34m\u001b[0m\u001b[0m\n\u001b[1;32m     10\u001b[0m     \u001b[0mprint\u001b[0m\u001b[0;34m(\u001b[0m\u001b[0;34m'Scraping'\u001b[0m\u001b[0;34m,\u001b[0m \u001b[0mtag\u001b[0m\u001b[0;34m)\u001b[0m\u001b[0;34m\u001b[0m\u001b[0;34m\u001b[0m\u001b[0m\n\u001b[0;32m---> 11\u001b[0;31m     \u001b[0mpages\u001b[0m \u001b[0;34m=\u001b[0m \u001b[0mcollect_pages\u001b[0m\u001b[0;34m(\u001b[0m\u001b[0mtag\u001b[0m\u001b[0;34m)\u001b[0m\u001b[0;34m\u001b[0m\u001b[0;34m\u001b[0m\u001b[0m\n\u001b[0m\u001b[1;32m     12\u001b[0m     \u001b[0msoup_objs\u001b[0m \u001b[0;34m=\u001b[0m \u001b[0;34m[\u001b[0m\u001b[0mcreate_soup\u001b[0m\u001b[0;34m(\u001b[0m\u001b[0mpage\u001b[0m\u001b[0;34m)\u001b[0m \u001b[0;32mfor\u001b[0m \u001b[0mpage\u001b[0m \u001b[0;32min\u001b[0m \u001b[0mpages\u001b[0m\u001b[0;34m]\u001b[0m\u001b[0;34m\u001b[0m\u001b[0;34m\u001b[0m\u001b[0m\n\u001b[1;32m     13\u001b[0m     \u001b[0mitem_tiles\u001b[0m \u001b[0;34m=\u001b[0m \u001b[0;34m[\u001b[0m\u001b[0mextract_tiles\u001b[0m\u001b[0;34m(\u001b[0m\u001b[0msoup\u001b[0m\u001b[0;34m)\u001b[0m \u001b[0;32mfor\u001b[0m \u001b[0msoup\u001b[0m \u001b[0;32min\u001b[0m \u001b[0msoup_objs\u001b[0m\u001b[0;34m]\u001b[0m\u001b[0;34m\u001b[0m\u001b[0;34m\u001b[0m\u001b[0m\n",
            "\u001b[0;32m<ipython-input-12-ba7ff55e1a23>\u001b[0m in \u001b[0;36mcollect_pages\u001b[0;34m(brand)\u001b[0m\n\u001b[1;32m     33\u001b[0m         \u001b[0mbtns\u001b[0m \u001b[0;34m=\u001b[0m \u001b[0msoup\u001b[0m\u001b[0;34m.\u001b[0m\u001b[0mfind_all\u001b[0m\u001b[0;34m(\u001b[0m\u001b[0;34m'button'\u001b[0m\u001b[0;34m,\u001b[0m \u001b[0mclass_\u001b[0m \u001b[0;34m=\u001b[0m \u001b[0;34m'btn--pagination'\u001b[0m\u001b[0;34m)\u001b[0m\u001b[0;34m\u001b[0m\u001b[0;34m\u001b[0m\u001b[0m\n\u001b[1;32m     34\u001b[0m \u001b[0;34m\u001b[0m\u001b[0m\n\u001b[0;32m---> 35\u001b[0;31m         \u001b[0;32mif\u001b[0m \u001b[0mbtns\u001b[0m\u001b[0;34m[\u001b[0m\u001b[0;34m-\u001b[0m\u001b[0;36m1\u001b[0m\u001b[0;34m]\u001b[0m\u001b[0;34m.\u001b[0m\u001b[0mhas_attr\u001b[0m\u001b[0;34m(\u001b[0m\u001b[0;34m'disabled'\u001b[0m\u001b[0;34m)\u001b[0m\u001b[0;34m:\u001b[0m\u001b[0;34m\u001b[0m\u001b[0;34m\u001b[0m\u001b[0m\n\u001b[0m\u001b[1;32m     36\u001b[0m             \u001b[0mmore_pages\u001b[0m \u001b[0;34m=\u001b[0m \u001b[0;32mFalse\u001b[0m\u001b[0;34m\u001b[0m\u001b[0;34m\u001b[0m\u001b[0m\n\u001b[1;32m     37\u001b[0m \u001b[0;34m\u001b[0m\u001b[0m\n",
            "\u001b[0;31mIndexError\u001b[0m: list index out of range"
          ]
        }
      ]
    },
    {
      "cell_type": "code",
      "metadata": {
        "id": "KIzXEjc6_K-Q",
        "colab_type": "code",
        "colab": {}
      },
      "source": [
        ""
      ],
      "execution_count": 0,
      "outputs": []
    },
    {
      "cell_type": "code",
      "metadata": {
        "id": "jcgz2TI3_K-U",
        "colab_type": "code",
        "colab": {}
      },
      "source": [
        "# Process raw data \n",
        "files = [file for file in glob(\"./data/raw/*.p\")]\n",
        "\n",
        "for f in files:\n",
        "    store = pickle.load(open(f, 'rb'))\n",
        "    f_store = [format_record(item) for item in store]\n",
        "    file_name = os.path.basename(f)\n",
        "    pickle.dump(f_store, open(f\"./data/intermediate/{file_name}\", 'wb'))"
      ],
      "execution_count": 0,
      "outputs": []
    },
    {
      "cell_type": "code",
      "metadata": {
        "id": "fYFKuUVs_K-X",
        "colab_type": "code",
        "colab": {}
      },
      "source": [
        "# Add new features\n",
        "files = [file for file in glob(\"./data/intermediate/*.p\")]\n",
        "\n",
        "for f in files:\n",
        "    store = pickle.load(open(f, 'rb'))\n",
        "    f_store = [create_features(item) for item in store]\n",
        "    file_name = os.path.basename(f)\n",
        "    pickle.dump(f_store, open(f\"./data/processed/{file_name}\", 'wb'))"
      ],
      "execution_count": 0,
      "outputs": []
    },
    {
      "cell_type": "code",
      "metadata": {
        "id": "PHXr-ivd_K-e",
        "colab_type": "code",
        "colab": {}
      },
      "source": [
        "# Examine the data\n",
        "files = [file for file in glob(\"./data/processed/*.p\")]\n",
        "full_store = []\n",
        "\n",
        "for f in files:\n",
        "    store = pickle.load(open(f, 'rb'))\n",
        "    full_store.extend(store)"
      ],
      "execution_count": 0,
      "outputs": []
    },
    {
      "cell_type": "code",
      "metadata": {
        "id": "h6y3wqII_K-g",
        "colab_type": "code",
        "colab": {},
        "outputId": "4d13a5df-469e-4c31-8f82-8dc39402eb56"
      },
      "source": [
        "df = pd.DataFrame(full_store)\n",
        "print(df.info())\n",
        "print('')\n",
        "print(df.head())"
      ],
      "execution_count": 0,
      "outputs": [
        {
          "output_type": "stream",
          "text": [
            "<class 'pandas.core.frame.DataFrame'>\n",
            "RangeIndex: 3840 entries, 0 to 3839\n",
            "Data columns (total 13 columns):\n",
            "brand     3840 non-null object\n",
            "date      3840 non-null datetime64[ns]\n",
            "diff      3840 non-null int64\n",
            "image     3840 non-null object\n",
            "length    3840 non-null int64\n",
            "link      3840 non-null object\n",
            "nwt       3840 non-null bool\n",
            "price     3840 non-null int64\n",
            "size      3531 non-null float64\n",
            "sold      3840 non-null bool\n",
            "status    3840 non-null object\n",
            "stock     3840 non-null object\n",
            "title     3840 non-null object\n",
            "dtypes: bool(2), datetime64[ns](1), float64(1), int64(3), object(6)\n",
            "memory usage: 337.6+ KB\n",
            "None\n",
            "\n",
            "       brand       date  diff  \\\n",
            "0  hugo_boss 2020-04-29     2   \n",
            "1  hugo_boss 2020-04-29     2   \n",
            "2  hugo_boss 2020-04-29     2   \n",
            "3  hugo_boss 2020-04-29     2   \n",
            "4  hugo_boss 2020-04-29     2   \n",
            "\n",
            "                                               image  length  \\\n",
            "0  https://di2ponv0v5otw.cloudfront.net/posts/202...      27   \n",
            "1  https://di2ponv0v5otw.cloudfront.net/posts/202...      15   \n",
            "2  https://di2ponv0v5otw.cloudfront.net/posts/202...      21   \n",
            "3  https://di2ponv0v5otw.cloudfront.net/posts/202...      42   \n",
            "4  https://di2ponv0v5otw.cloudfront.net/posts/202...      48   \n",
            "\n",
            "                                                link    nwt  price  size  \\\n",
            "0  http://www.poshmark.com/listing/Mens-Hugo-Boss...  False    200  33.0   \n",
            "1  http://www.poshmark.com/listing/Hugo-Boss-Jean...  False     75  36.0   \n",
            "2  http://www.poshmark.com/listing/Hugo-Boss-Jean...  False     28  34.0   \n",
            "3  http://www.poshmark.com/listing/Hugo-Boss-mens...  False     50  36.0   \n",
            "4  http://www.poshmark.com/listing/Dark-blue-Hugo...   True     50  30.0   \n",
            "\n",
            "    sold status stock                                             title  \n",
            "0  False                                    Men’s Hugo Boss Black Jeans  \n",
            "1  False                                                Hugo Boss Jeans  \n",
            "2  False                                          Hugo Boss Jeans 34/32  \n",
            "3  False                     Hugo Boss men’s Alabama straight leg jeans  \n",
            "4  False    NWT        Dark blue Hugo Boss skinny jeans in 30/34. NWT!!  \n"
          ],
          "name": "stdout"
        }
      ]
    },
    {
      "cell_type": "code",
      "metadata": {
        "id": "0QGzsl2U_K-j",
        "colab_type": "code",
        "colab": {},
        "outputId": "e671569c-ab50-427b-a632-13c94e4f103b"
      },
      "source": [
        "df['brand'].unique()"
      ],
      "execution_count": 0,
      "outputs": [
        {
          "output_type": "execute_result",
          "data": {
            "text/plain": [
              "array(['hugo_boss', 'diesel', 'big_star', 'mavi', 'naked_famous_denim',\n",
              "       'j_crew', 'lucky_brand', 'levi_s'], dtype=object)"
            ]
          },
          "metadata": {
            "tags": []
          },
          "execution_count": 17
        }
      ]
    },
    {
      "cell_type": "code",
      "metadata": {
        "id": "JOWy27SW_K-l",
        "colab_type": "code",
        "colab": {},
        "outputId": "e94eb00f-f612-4687-a60a-7f16b3f89ac2"
      },
      "source": [
        "numeric_df = df[['brand', 'price', 'size', 'diff', 'length']]\n",
        "numeric_df.head()"
      ],
      "execution_count": 0,
      "outputs": [
        {
          "output_type": "execute_result",
          "data": {
            "text/html": [
              "<div>\n",
              "<style scoped>\n",
              "    .dataframe tbody tr th:only-of-type {\n",
              "        vertical-align: middle;\n",
              "    }\n",
              "\n",
              "    .dataframe tbody tr th {\n",
              "        vertical-align: top;\n",
              "    }\n",
              "\n",
              "    .dataframe thead th {\n",
              "        text-align: right;\n",
              "    }\n",
              "</style>\n",
              "<table border=\"1\" class=\"dataframe\">\n",
              "  <thead>\n",
              "    <tr style=\"text-align: right;\">\n",
              "      <th></th>\n",
              "      <th>brand</th>\n",
              "      <th>price</th>\n",
              "      <th>size</th>\n",
              "      <th>diff</th>\n",
              "      <th>length</th>\n",
              "    </tr>\n",
              "  </thead>\n",
              "  <tbody>\n",
              "    <tr>\n",
              "      <th>0</th>\n",
              "      <td>hugo_boss</td>\n",
              "      <td>200</td>\n",
              "      <td>33.0</td>\n",
              "      <td>2</td>\n",
              "      <td>27</td>\n",
              "    </tr>\n",
              "    <tr>\n",
              "      <th>1</th>\n",
              "      <td>hugo_boss</td>\n",
              "      <td>75</td>\n",
              "      <td>36.0</td>\n",
              "      <td>2</td>\n",
              "      <td>15</td>\n",
              "    </tr>\n",
              "    <tr>\n",
              "      <th>2</th>\n",
              "      <td>hugo_boss</td>\n",
              "      <td>28</td>\n",
              "      <td>34.0</td>\n",
              "      <td>2</td>\n",
              "      <td>21</td>\n",
              "    </tr>\n",
              "    <tr>\n",
              "      <th>3</th>\n",
              "      <td>hugo_boss</td>\n",
              "      <td>50</td>\n",
              "      <td>36.0</td>\n",
              "      <td>2</td>\n",
              "      <td>42</td>\n",
              "    </tr>\n",
              "    <tr>\n",
              "      <th>4</th>\n",
              "      <td>hugo_boss</td>\n",
              "      <td>50</td>\n",
              "      <td>30.0</td>\n",
              "      <td>2</td>\n",
              "      <td>48</td>\n",
              "    </tr>\n",
              "  </tbody>\n",
              "</table>\n",
              "</div>"
            ],
            "text/plain": [
              "       brand  price  size  diff  length\n",
              "0  hugo_boss    200  33.0     2      27\n",
              "1  hugo_boss     75  36.0     2      15\n",
              "2  hugo_boss     28  34.0     2      21\n",
              "3  hugo_boss     50  36.0     2      42\n",
              "4  hugo_boss     50  30.0     2      48"
            ]
          },
          "metadata": {
            "tags": []
          },
          "execution_count": 18
        }
      ]
    },
    {
      "cell_type": "code",
      "metadata": {
        "id": "0z4Zbrgc_K-o",
        "colab_type": "code",
        "colab": {},
        "outputId": "3deb2a52-3c26-44a5-b524-be3b1cbc1652"
      },
      "source": [
        "# Check for extreme values\n",
        "numeric_df.describe()"
      ],
      "execution_count": 0,
      "outputs": [
        {
          "output_type": "execute_result",
          "data": {
            "text/html": [
              "<div>\n",
              "<style scoped>\n",
              "    .dataframe tbody tr th:only-of-type {\n",
              "        vertical-align: middle;\n",
              "    }\n",
              "\n",
              "    .dataframe tbody tr th {\n",
              "        vertical-align: top;\n",
              "    }\n",
              "\n",
              "    .dataframe thead th {\n",
              "        text-align: right;\n",
              "    }\n",
              "</style>\n",
              "<table border=\"1\" class=\"dataframe\">\n",
              "  <thead>\n",
              "    <tr style=\"text-align: right;\">\n",
              "      <th></th>\n",
              "      <th>price</th>\n",
              "      <th>size</th>\n",
              "      <th>diff</th>\n",
              "      <th>length</th>\n",
              "    </tr>\n",
              "  </thead>\n",
              "  <tbody>\n",
              "    <tr>\n",
              "      <th>count</th>\n",
              "      <td>3840.000000</td>\n",
              "      <td>3531.000000</td>\n",
              "      <td>3840.000000</td>\n",
              "      <td>3840.000000</td>\n",
              "    </tr>\n",
              "    <tr>\n",
              "      <th>mean</th>\n",
              "      <td>40.777344</td>\n",
              "      <td>33.322288</td>\n",
              "      <td>44.234896</td>\n",
              "      <td>34.246615</td>\n",
              "    </tr>\n",
              "    <tr>\n",
              "      <th>std</th>\n",
              "      <td>28.686922</td>\n",
              "      <td>2.904779</td>\n",
              "      <td>58.193196</td>\n",
              "      <td>12.324131</td>\n",
              "    </tr>\n",
              "    <tr>\n",
              "      <th>min</th>\n",
              "      <td>5.000000</td>\n",
              "      <td>26.000000</td>\n",
              "      <td>1.000000</td>\n",
              "      <td>4.000000</td>\n",
              "    </tr>\n",
              "    <tr>\n",
              "      <th>25%</th>\n",
              "      <td>25.000000</td>\n",
              "      <td>31.000000</td>\n",
              "      <td>6.000000</td>\n",
              "      <td>23.000000</td>\n",
              "    </tr>\n",
              "    <tr>\n",
              "      <th>50%</th>\n",
              "      <td>35.000000</td>\n",
              "      <td>33.000000</td>\n",
              "      <td>23.000000</td>\n",
              "      <td>36.000000</td>\n",
              "    </tr>\n",
              "    <tr>\n",
              "      <th>75%</th>\n",
              "      <td>50.000000</td>\n",
              "      <td>36.000000</td>\n",
              "      <td>63.000000</td>\n",
              "      <td>46.000000</td>\n",
              "    </tr>\n",
              "    <tr>\n",
              "      <th>max</th>\n",
              "      <td>500.000000</td>\n",
              "      <td>52.000000</td>\n",
              "      <td>863.000000</td>\n",
              "      <td>50.000000</td>\n",
              "    </tr>\n",
              "  </tbody>\n",
              "</table>\n",
              "</div>"
            ],
            "text/plain": [
              "             price         size         diff       length\n",
              "count  3840.000000  3531.000000  3840.000000  3840.000000\n",
              "mean     40.777344    33.322288    44.234896    34.246615\n",
              "std      28.686922     2.904779    58.193196    12.324131\n",
              "min       5.000000    26.000000     1.000000     4.000000\n",
              "25%      25.000000    31.000000     6.000000    23.000000\n",
              "50%      35.000000    33.000000    23.000000    36.000000\n",
              "75%      50.000000    36.000000    63.000000    46.000000\n",
              "max     500.000000    52.000000   863.000000    50.000000"
            ]
          },
          "metadata": {
            "tags": []
          },
          "execution_count": 19
        }
      ]
    },
    {
      "cell_type": "code",
      "metadata": {
        "id": "lauNZ757_K-q",
        "colab_type": "code",
        "colab": {},
        "outputId": "929ee235-6f63-4104-f0f0-d7c9c9799979"
      },
      "source": [
        "# Compare medians by brand\n",
        "numeric_df.groupby('brand')['price', 'diff', 'length'].median().reset_index().rename(\n",
        "    columns={'brand':'Brand', 'price':'Price', 'diff':'Days Listed', 'length':'Title Length'})"
      ],
      "execution_count": 0,
      "outputs": [
        {
          "output_type": "execute_result",
          "data": {
            "text/html": [
              "<div>\n",
              "<style scoped>\n",
              "    .dataframe tbody tr th:only-of-type {\n",
              "        vertical-align: middle;\n",
              "    }\n",
              "\n",
              "    .dataframe tbody tr th {\n",
              "        vertical-align: top;\n",
              "    }\n",
              "\n",
              "    .dataframe thead th {\n",
              "        text-align: right;\n",
              "    }\n",
              "</style>\n",
              "<table border=\"1\" class=\"dataframe\">\n",
              "  <thead>\n",
              "    <tr style=\"text-align: right;\">\n",
              "      <th></th>\n",
              "      <th>Brand</th>\n",
              "      <th>Price</th>\n",
              "      <th>Days Listed</th>\n",
              "      <th>Title Length</th>\n",
              "    </tr>\n",
              "  </thead>\n",
              "  <tbody>\n",
              "    <tr>\n",
              "      <th>0</th>\n",
              "      <td>big_star</td>\n",
              "      <td>30.0</td>\n",
              "      <td>32.0</td>\n",
              "      <td>38.0</td>\n",
              "    </tr>\n",
              "    <tr>\n",
              "      <th>1</th>\n",
              "      <td>diesel</td>\n",
              "      <td>50.0</td>\n",
              "      <td>13.0</td>\n",
              "      <td>34.0</td>\n",
              "    </tr>\n",
              "    <tr>\n",
              "      <th>2</th>\n",
              "      <td>hugo_boss</td>\n",
              "      <td>40.0</td>\n",
              "      <td>62.0</td>\n",
              "      <td>36.0</td>\n",
              "    </tr>\n",
              "    <tr>\n",
              "      <th>3</th>\n",
              "      <td>j_crew</td>\n",
              "      <td>27.5</td>\n",
              "      <td>22.0</td>\n",
              "      <td>33.0</td>\n",
              "    </tr>\n",
              "    <tr>\n",
              "      <th>4</th>\n",
              "      <td>levi_s</td>\n",
              "      <td>29.0</td>\n",
              "      <td>2.0</td>\n",
              "      <td>33.0</td>\n",
              "    </tr>\n",
              "    <tr>\n",
              "      <th>5</th>\n",
              "      <td>lucky_brand</td>\n",
              "      <td>30.0</td>\n",
              "      <td>5.0</td>\n",
              "      <td>38.0</td>\n",
              "    </tr>\n",
              "    <tr>\n",
              "      <th>6</th>\n",
              "      <td>mavi</td>\n",
              "      <td>30.0</td>\n",
              "      <td>81.0</td>\n",
              "      <td>33.0</td>\n",
              "    </tr>\n",
              "    <tr>\n",
              "      <th>7</th>\n",
              "      <td>naked_famous_denim</td>\n",
              "      <td>55.0</td>\n",
              "      <td>108.0</td>\n",
              "      <td>44.0</td>\n",
              "    </tr>\n",
              "  </tbody>\n",
              "</table>\n",
              "</div>"
            ],
            "text/plain": [
              "                Brand  Price  Days Listed  Title Length\n",
              "0            big_star   30.0         32.0          38.0\n",
              "1              diesel   50.0         13.0          34.0\n",
              "2           hugo_boss   40.0         62.0          36.0\n",
              "3              j_crew   27.5         22.0          33.0\n",
              "4              levi_s   29.0          2.0          33.0\n",
              "5         lucky_brand   30.0          5.0          38.0\n",
              "6                mavi   30.0         81.0          33.0\n",
              "7  naked_famous_denim   55.0        108.0          44.0"
            ]
          },
          "metadata": {
            "tags": []
          },
          "execution_count": 20
        }
      ]
    },
    {
      "cell_type": "code",
      "metadata": {
        "id": "MtM3sVw2_K-t",
        "colab_type": "code",
        "colab": {}
      },
      "source": [
        "# Export to CSV\n",
        "df.to_csv('./data/processed/source_data.csv', index=False)\n",
        "numeric_df.to_csv('./data/processed/numeric_data.csv', index=False)"
      ],
      "execution_count": 0,
      "outputs": []
    },
    {
      "cell_type": "markdown",
      "metadata": {
        "id": "j9jKBJv8_K-v",
        "colab_type": "text"
      },
      "source": [
        "## Visualizing the distributions\n",
        "\n",
        "Use `matplotlib` to plot and analyze the distributions in our data."
      ]
    },
    {
      "cell_type": "code",
      "metadata": {
        "id": "JSLW9J35_K-w",
        "colab_type": "code",
        "colab": {}
      },
      "source": [
        "df = pd.read_csv('./data/processed/source_data.csv')"
      ],
      "execution_count": 0,
      "outputs": []
    },
    {
      "cell_type": "code",
      "metadata": {
        "id": "CtvuIFPf_K-y",
        "colab_type": "code",
        "colab": {},
        "outputId": "0c308303-5477-4b9a-b660-861f189b1540"
      },
      "source": [
        "df.info()"
      ],
      "execution_count": 0,
      "outputs": [
        {
          "output_type": "stream",
          "text": [
            "<class 'pandas.core.frame.DataFrame'>\n",
            "RangeIndex: 3840 entries, 0 to 3839\n",
            "Data columns (total 13 columns):\n",
            "brand     3840 non-null object\n",
            "date      3840 non-null object\n",
            "diff      3840 non-null int64\n",
            "image     3840 non-null object\n",
            "length    3840 non-null int64\n",
            "link      3840 non-null object\n",
            "nwt       3840 non-null bool\n",
            "price     3840 non-null int64\n",
            "size      3531 non-null float64\n",
            "sold      3840 non-null bool\n",
            "status    525 non-null object\n",
            "stock     985 non-null object\n",
            "title     3840 non-null object\n",
            "dtypes: bool(2), float64(1), int64(3), object(7)\n",
            "memory usage: 337.6+ KB\n"
          ],
          "name": "stdout"
        }
      ]
    },
    {
      "cell_type": "code",
      "metadata": {
        "id": "CKZtztv5_K-0",
        "colab_type": "code",
        "colab": {},
        "outputId": "23ba818d-2bec-445c-f079-302c26626766"
      },
      "source": [
        "df['price'].plot.hist(bins=12, alpha=0.5);"
      ],
      "execution_count": 0,
      "outputs": [
        {
          "output_type": "display_data",
          "data": {
            "image/png": "[encoded data removed]",
            "text/plain": [
              "<Figure size 432x288 with 1 Axes>"
            ]
          },
          "metadata": {
            "tags": [],
            "needs_background": "light"
          }
        }
      ]
    },
    {
      "cell_type": "code",
      "metadata": {
        "id": "Nu4Ek-L9_K-3",
        "colab_type": "code",
        "colab": {},
        "outputId": "6e4031a4-a819-465b-df41-4ebaa0eac5f0"
      },
      "source": [
        "distinct_keys = df['brand'].unique()\n",
        "for key in distinct_keys:\n",
        "    plt.figure();\n",
        "    df_subset = df[df.brand==key]\n",
        "    df_subset['price'].plot.hist(bins=20, alpha=0.2, title=key);"
      ],
      "execution_count": 0,
      "outputs": [
        {
          "output_type": "display_data",
          "data": {
            "image/png": "[encoded data removed]",
            "text/plain": [
              "<Figure size 432x288 with 1 Axes>"
            ]
          },
          "metadata": {
            "tags": [],
            "needs_background": "light"
          }
        },
        {
          "output_type": "display_data",
          "data": {
            "image/png": "[encoded data removed]",
            "text/plain": [
              "<Figure size 432x288 with 1 Axes>"
            ]
          },
          "metadata": {
            "tags": [],
            "needs_background": "light"
          }
        },
        {
          "output_type": "display_data",
          "data": {
            "image/png": "[encoded data removed]",
            "text/plain": [
              "<Figure size 432x288 with 1 Axes>"
            ]
          },
          "metadata": {
            "tags": [],
            "needs_background": "light"
          }
        },
        {
          "output_type": "display_data",
          "data": {
            "image/png": "[encoded data removed]",
            "text/plain": [
              "<Figure size 432x288 with 1 Axes>"
            ]
          },
          "metadata": {
            "tags": [],
            "needs_background": "light"
          }
        },
        {
          "output_type": "display_data",
          "data": {
            "image/png": "[encoded data removed]",
            "text/plain": [
              "<Figure size 432x288 with 1 Axes>"
            ]
          },
          "metadata": {
            "tags": [],
            "needs_background": "light"
          }
        },
        {
          "output_type": "display_data",
          "data": {
            "image/png": "[encoded data removed]",
            "text/plain": [
              "<Figure size 432x288 with 1 Axes>"
            ]
          },
          "metadata": {
            "tags": [],
            "needs_background": "light"
          }
        },
        {
          "output_type": "display_data",
          "data": {
            "image/png": "[encoded data removed]",
            "text/plain": [
              "<Figure size 432x288 with 1 Axes>"
            ]
          },
          "metadata": {
            "tags": [],
            "needs_background": "light"
          }
        },
        {
          "output_type": "display_data",
          "data": {
            "image/png": "[encoded data removed]",
            "text/plain": [
              "<Figure size 432x288 with 1 Axes>"
            ]
          },
          "metadata": {
            "tags": [],
            "needs_background": "light"
          }
        }
      ]
    },
    {
      "cell_type": "code",
      "metadata": {
        "id": "86BDDPyo_K-5",
        "colab_type": "code",
        "colab": {},
        "outputId": "57a0c95d-ca75-4f27-9157-9d7f2c30a12f"
      },
      "source": [
        "# Distribution of days listed\n",
        "df['diff'].plot.hist(bins=12, alpha=0.5);"
      ],
      "execution_count": 0,
      "outputs": [
        {
          "output_type": "display_data",
          "data": {
            "image/png": "[encoded data removed]",
            "text/plain": [
              "<Figure size 432x288 with 1 Axes>"
            ]
          },
          "metadata": {
            "tags": [],
            "needs_background": "light"
          }
        }
      ]
    },
    {
      "cell_type": "code",
      "metadata": {
        "id": "xkFjgzaZ_K-9",
        "colab_type": "code",
        "colab": {},
        "outputId": "34dfa661-a6cd-40a2-932b-d32a2b5d15f5"
      },
      "source": [
        "distinct_keys = df['brand'].unique()\n",
        "for key in distinct_keys:\n",
        "    plt.figure();\n",
        "    df_subset = df[df.brand==key]\n",
        "    df_subset['diff'].plot.hist(bins=12, alpha=0.2, title=key);"
      ],
      "execution_count": 0,
      "outputs": [
        {
          "output_type": "display_data",
          "data": {
            "image/png": "[encoded data removed]",
            "text/plain": [
              "<Figure size 432x288 with 1 Axes>"
            ]
          },
          "metadata": {
            "tags": [],
            "needs_background": "light"
          }
        },
        {
          "output_type": "display_data",
          "data": {
            "image/png": "[encoded data removed]",
            "text/plain": [
              "<Figure size 432x288 with 1 Axes>"
            ]
          },
          "metadata": {
            "tags": [],
            "needs_background": "light"
          }
        },
        {
          "output_type": "display_data",
          "data": {
            "image/png": "[encoded data removed]",
            "text/plain": [
              "<Figure size 432x288 with 1 Axes>"
            ]
          },
          "metadata": {
            "tags": [],
            "needs_background": "light"
          }
        },
        {
          "output_type": "display_data",
          "data": {
            "image/png": "[encoded data removed]",
            "text/plain": [
              "<Figure size 432x288 with 1 Axes>"
            ]
          },
          "metadata": {
            "tags": [],
            "needs_background": "light"
          }
        },
        {
          "output_type": "display_data",
          "data": {
            "image/png": "[encoded data removed]",
            "text/plain": [
              "<Figure size 432x288 with 1 Axes>"
            ]
          },
          "metadata": {
            "tags": [],
            "needs_background": "light"
          }
        },
        {
          "output_type": "display_data",
          "data": {
            "image/png": "[encoded data removed]",
            "text/plain": [
              "<Figure size 432x288 with 1 Axes>"
            ]
          },
          "metadata": {
            "tags": [],
            "needs_background": "light"
          }
        },
        {
          "output_type": "display_data",
          "data": {
            "image/png": "[encoded data removed]",
            "text/plain": [
              "<Figure size 432x288 with 1 Axes>"
            ]
          },
          "metadata": {
            "tags": [],
            "needs_background": "light"
          }
        },
        {
          "output_type": "display_data",
          "data": {
            "image/png": "[encoded data removed]",
            "text/plain": [
              "<Figure size 432x288 with 1 Axes>"
            ]
          },
          "metadata": {
            "tags": [],
            "needs_background": "light"
          }
        }
      ]
    },
    {
      "cell_type": "code",
      "metadata": {
        "scrolled": true,
        "id": "6siZWDg5_K_A",
        "colab_type": "code",
        "colab": {},
        "outputId": "4b87344b-0010-4f3e-9a2a-de2e4752da2d"
      },
      "source": [
        "# Distribution of title length\n",
        "df['length'].plot.hist(bins=12, alpha=0.5);"
      ],
      "execution_count": 0,
      "outputs": [
        {
          "output_type": "display_data",
          "data": {
            "image/png": "[encoded data removed]",
            "text/plain": [
              "<Figure size 432x288 with 1 Axes>"
            ]
          },
          "metadata": {
            "tags": [],
            "needs_background": "light"
          }
        }
      ]
    },
    {
      "cell_type": "code",
      "metadata": {
        "id": "5FHLnmHS_K_C",
        "colab_type": "code",
        "colab": {},
        "outputId": "3a98fc70-8077-409e-a49e-8b83a6af9e36"
      },
      "source": [
        "sold_df = df[df['sold'] == True]\n",
        "sold_df.info()"
      ],
      "execution_count": 0,
      "outputs": [
        {
          "output_type": "stream",
          "text": [
            "<class 'pandas.core.frame.DataFrame'>\n",
            "Int64Index: 985 entries, 24 to 3816\n",
            "Data columns (total 14 columns):\n",
            "Unnamed: 0    985 non-null int64\n",
            "brand         985 non-null object\n",
            "date          985 non-null object\n",
            "diff          985 non-null int64\n",
            "image         985 non-null object\n",
            "length        985 non-null int64\n",
            "link          985 non-null object\n",
            "nwt           985 non-null bool\n",
            "price         985 non-null int64\n",
            "size          955 non-null float64\n",
            "sold          985 non-null bool\n",
            "status        216 non-null object\n",
            "stock         985 non-null object\n",
            "title         985 non-null object\n",
            "dtypes: bool(2), float64(1), int64(4), object(7)\n",
            "memory usage: 102.0+ KB\n"
          ],
          "name": "stdout"
        }
      ]
    },
    {
      "cell_type": "code",
      "metadata": {
        "id": "5DjnKypS_K_E",
        "colab_type": "code",
        "colab": {},
        "outputId": "c1d3e25b-a61a-4a08-f97a-d269d3d87e83"
      },
      "source": [
        "sold_df['price'].plot.hist(bins=12, alpha=0.5);"
      ],
      "execution_count": 0,
      "outputs": [
        {
          "output_type": "display_data",
          "data": {
            "image/png": "[encoded data removed]",
            "text/plain": [
              "<Figure size 432x288 with 1 Axes>"
            ]
          },
          "metadata": {
            "tags": [],
            "needs_background": "light"
          }
        }
      ]
    },
    {
      "cell_type": "code",
      "metadata": {
        "id": "AUVw0LZw_K_H",
        "colab_type": "code",
        "colab": {},
        "outputId": "4fa18f0b-12d0-4937-c9b8-0d9fbb538a42"
      },
      "source": [
        "distinct_keys = sold_df['brand'].unique()\n",
        "for key in distinct_keys:\n",
        "    plt.figure();\n",
        "    df_subset = sold_df[sold_df.brand==key]\n",
        "    df_subset['price'].plot.hist(bins=12, alpha=0.2, title=key);"
      ],
      "execution_count": 0,
      "outputs": [
        {
          "output_type": "display_data",
          "data": {
            "image/png": "[encoded data removed]",
            "text/plain": [
              "<Figure size 432x288 with 1 Axes>"
            ]
          },
          "metadata": {
            "tags": [],
            "needs_background": "light"
          }
        },
        {
          "output_type": "display_data",
          "data": {
            "image/png": "[encoded data removed]",
            "text/plain": [
              "<Figure size 432x288 with 1 Axes>"
            ]
          },
          "metadata": {
            "tags": [],
            "needs_background": "light"
          }
        },
        {
          "output_type": "display_data",
          "data": {
            "image/png": "[encoded data removed]",
            "text/plain": [
              "<Figure size 432x288 with 1 Axes>"
            ]
          },
          "metadata": {
            "tags": [],
            "needs_background": "light"
          }
        },
        {
          "output_type": "display_data",
          "data": {
            "image/png": "[encoded data removed]",
            "text/plain": [
              "<Figure size 432x288 with 1 Axes>"
            ]
          },
          "metadata": {
            "tags": [],
            "needs_background": "light"
          }
        },
        {
          "output_type": "display_data",
          "data": {
            "image/png": "[encoded data removed]",
            "text/plain": [
              "<Figure size 432x288 with 1 Axes>"
            ]
          },
          "metadata": {
            "tags": [],
            "needs_background": "light"
          }
        },
        {
          "output_type": "display_data",
          "data": {
            "image/png": "[encoded data removed]",
            "text/plain": [
              "<Figure size 432x288 with 1 Axes>"
            ]
          },
          "metadata": {
            "tags": [],
            "needs_background": "light"
          }
        },
        {
          "output_type": "display_data",
          "data": {
            "image/png": "[encoded data removed]",
            "text/plain": [
              "<Figure size 432x288 with 1 Axes>"
            ]
          },
          "metadata": {
            "tags": [],
            "needs_background": "light"
          }
        },
        {
          "output_type": "display_data",
          "data": {
            "image/png": "[encoded data removed]",
            "text/plain": [
              "<Figure size 432x288 with 1 Axes>"
            ]
          },
          "metadata": {
            "tags": [],
            "needs_background": "light"
          }
        }
      ]
    },
    {
      "cell_type": "code",
      "metadata": {
        "id": "AOLZxdKF_K_J",
        "colab_type": "code",
        "colab": {}
      },
      "source": [
        ""
      ],
      "execution_count": 0,
      "outputs": []
    },
    {
      "cell_type": "markdown",
      "metadata": {
        "id": "egBAmpYl_K_L",
        "colab_type": "text"
      },
      "source": [
        "## Modeling \n",
        "\n",
        "Create a basic model to estimate the discount percentage."
      ]
    },
    {
      "cell_type": "code",
      "metadata": {
        "id": "-zOUCMHW_K_M",
        "colab_type": "code",
        "colab": {},
        "outputId": "5a9240ca-2a72-4ec8-82f8-5276d889e9eb"
      },
      "source": [
        "df = pd.read_csv('./data/processed/source_data.csv')\n",
        "df.info()"
      ],
      "execution_count": 0,
      "outputs": [
        {
          "output_type": "stream",
          "text": [
            "<class 'pandas.core.frame.DataFrame'>\n",
            "RangeIndex: 3840 entries, 0 to 3839\n",
            "Data columns (total 13 columns):\n",
            "brand     3840 non-null object\n",
            "date      3840 non-null object\n",
            "diff      3840 non-null int64\n",
            "image     3840 non-null object\n",
            "length    3840 non-null int64\n",
            "link      3840 non-null object\n",
            "nwt       3840 non-null bool\n",
            "price     3840 non-null int64\n",
            "size      3531 non-null float64\n",
            "sold      3840 non-null bool\n",
            "status    525 non-null object\n",
            "stock     985 non-null object\n",
            "title     3840 non-null object\n",
            "dtypes: bool(2), float64(1), int64(3), object(7)\n",
            "memory usage: 337.6+ KB\n"
          ],
          "name": "stdout"
        }
      ]
    },
    {
      "cell_type": "code",
      "metadata": {
        "id": "hUqoyMcn_K_P",
        "colab_type": "code",
        "colab": {},
        "outputId": "1904c086-ad6c-49ef-9244-86c8d7658f8e"
      },
      "source": [
        "df2 = df[['brand', 'price', 'size', 'diff', 'length', 'nwt', 'sold']]\n",
        "df2.head()"
      ],
      "execution_count": 0,
      "outputs": [
        {
          "output_type": "execute_result",
          "data": {
            "text/html": [
              "<div>\n",
              "<style scoped>\n",
              "    .dataframe tbody tr th:only-of-type {\n",
              "        vertical-align: middle;\n",
              "    }\n",
              "\n",
              "    .dataframe tbody tr th {\n",
              "        vertical-align: top;\n",
              "    }\n",
              "\n",
              "    .dataframe thead th {\n",
              "        text-align: right;\n",
              "    }\n",
              "</style>\n",
              "<table border=\"1\" class=\"dataframe\">\n",
              "  <thead>\n",
              "    <tr style=\"text-align: right;\">\n",
              "      <th></th>\n",
              "      <th>brand</th>\n",
              "      <th>price</th>\n",
              "      <th>size</th>\n",
              "      <th>diff</th>\n",
              "      <th>length</th>\n",
              "      <th>nwt</th>\n",
              "      <th>sold</th>\n",
              "    </tr>\n",
              "  </thead>\n",
              "  <tbody>\n",
              "    <tr>\n",
              "      <th>0</th>\n",
              "      <td>hugo_boss</td>\n",
              "      <td>200</td>\n",
              "      <td>33.0</td>\n",
              "      <td>2</td>\n",
              "      <td>27</td>\n",
              "      <td>False</td>\n",
              "      <td>False</td>\n",
              "    </tr>\n",
              "    <tr>\n",
              "      <th>1</th>\n",
              "      <td>hugo_boss</td>\n",
              "      <td>75</td>\n",
              "      <td>36.0</td>\n",
              "      <td>2</td>\n",
              "      <td>15</td>\n",
              "      <td>False</td>\n",
              "      <td>False</td>\n",
              "    </tr>\n",
              "    <tr>\n",
              "      <th>2</th>\n",
              "      <td>hugo_boss</td>\n",
              "      <td>28</td>\n",
              "      <td>34.0</td>\n",
              "      <td>2</td>\n",
              "      <td>21</td>\n",
              "      <td>False</td>\n",
              "      <td>False</td>\n",
              "    </tr>\n",
              "    <tr>\n",
              "      <th>3</th>\n",
              "      <td>hugo_boss</td>\n",
              "      <td>50</td>\n",
              "      <td>36.0</td>\n",
              "      <td>2</td>\n",
              "      <td>42</td>\n",
              "      <td>False</td>\n",
              "      <td>False</td>\n",
              "    </tr>\n",
              "    <tr>\n",
              "      <th>4</th>\n",
              "      <td>hugo_boss</td>\n",
              "      <td>50</td>\n",
              "      <td>30.0</td>\n",
              "      <td>2</td>\n",
              "      <td>48</td>\n",
              "      <td>True</td>\n",
              "      <td>False</td>\n",
              "    </tr>\n",
              "  </tbody>\n",
              "</table>\n",
              "</div>"
            ],
            "text/plain": [
              "       brand  price  size  diff  length    nwt   sold\n",
              "0  hugo_boss    200  33.0     2      27  False  False\n",
              "1  hugo_boss     75  36.0     2      15  False  False\n",
              "2  hugo_boss     28  34.0     2      21  False  False\n",
              "3  hugo_boss     50  36.0     2      42  False  False\n",
              "4  hugo_boss     50  30.0     2      48   True  False"
            ]
          },
          "metadata": {
            "tags": []
          },
          "execution_count": 28
        }
      ]
    },
    {
      "cell_type": "code",
      "metadata": {
        "id": "DQYh8oiM_K_R",
        "colab_type": "code",
        "colab": {},
        "outputId": "699a0884-d63b-4d3a-f803-1ba76ee953ee"
      },
      "source": [
        "listed_df = df[df['sold'] == False]\n",
        "listed_agg = listed_df.groupby('brand')['price', 'diff', 'length'].median().reset_index().rename(\n",
        "    columns={'brand':'Brand', 'price':'Listed Price', 'diff':'Days Listed', 'length':'Title Length'})\n",
        "listed_agg"
      ],
      "execution_count": 0,
      "outputs": [
        {
          "output_type": "execute_result",
          "data": {
            "text/html": [
              "<div>\n",
              "<style scoped>\n",
              "    .dataframe tbody tr th:only-of-type {\n",
              "        vertical-align: middle;\n",
              "    }\n",
              "\n",
              "    .dataframe tbody tr th {\n",
              "        vertical-align: top;\n",
              "    }\n",
              "\n",
              "    .dataframe thead th {\n",
              "        text-align: right;\n",
              "    }\n",
              "</style>\n",
              "<table border=\"1\" class=\"dataframe\">\n",
              "  <thead>\n",
              "    <tr style=\"text-align: right;\">\n",
              "      <th></th>\n",
              "      <th>Brand</th>\n",
              "      <th>Listed Price</th>\n",
              "      <th>Days Listed</th>\n",
              "      <th>Title Length</th>\n",
              "    </tr>\n",
              "  </thead>\n",
              "  <tbody>\n",
              "    <tr>\n",
              "      <th>0</th>\n",
              "      <td>big_star</td>\n",
              "      <td>35.0</td>\n",
              "      <td>21.0</td>\n",
              "      <td>35.5</td>\n",
              "    </tr>\n",
              "    <tr>\n",
              "      <th>1</th>\n",
              "      <td>diesel</td>\n",
              "      <td>50.0</td>\n",
              "      <td>11.0</td>\n",
              "      <td>34.0</td>\n",
              "    </tr>\n",
              "    <tr>\n",
              "      <th>2</th>\n",
              "      <td>hugo_boss</td>\n",
              "      <td>45.0</td>\n",
              "      <td>57.0</td>\n",
              "      <td>35.5</td>\n",
              "    </tr>\n",
              "    <tr>\n",
              "      <th>3</th>\n",
              "      <td>j_crew</td>\n",
              "      <td>28.0</td>\n",
              "      <td>20.0</td>\n",
              "      <td>32.0</td>\n",
              "    </tr>\n",
              "    <tr>\n",
              "      <th>4</th>\n",
              "      <td>levi_s</td>\n",
              "      <td>29.0</td>\n",
              "      <td>2.0</td>\n",
              "      <td>33.0</td>\n",
              "    </tr>\n",
              "    <tr>\n",
              "      <th>5</th>\n",
              "      <td>lucky_brand</td>\n",
              "      <td>30.0</td>\n",
              "      <td>5.0</td>\n",
              "      <td>38.0</td>\n",
              "    </tr>\n",
              "    <tr>\n",
              "      <th>6</th>\n",
              "      <td>mavi</td>\n",
              "      <td>35.0</td>\n",
              "      <td>66.0</td>\n",
              "      <td>33.0</td>\n",
              "    </tr>\n",
              "    <tr>\n",
              "      <th>7</th>\n",
              "      <td>naked_famous_denim</td>\n",
              "      <td>75.0</td>\n",
              "      <td>78.0</td>\n",
              "      <td>44.0</td>\n",
              "    </tr>\n",
              "  </tbody>\n",
              "</table>\n",
              "</div>"
            ],
            "text/plain": [
              "                Brand  Listed Price  Days Listed  Title Length\n",
              "0            big_star          35.0         21.0          35.5\n",
              "1              diesel          50.0         11.0          34.0\n",
              "2           hugo_boss          45.0         57.0          35.5\n",
              "3              j_crew          28.0         20.0          32.0\n",
              "4              levi_s          29.0          2.0          33.0\n",
              "5         lucky_brand          30.0          5.0          38.0\n",
              "6                mavi          35.0         66.0          33.0\n",
              "7  naked_famous_denim          75.0         78.0          44.0"
            ]
          },
          "metadata": {
            "tags": []
          },
          "execution_count": 39
        }
      ]
    },
    {
      "cell_type": "code",
      "metadata": {
        "id": "bOVDxzBX_K_U",
        "colab_type": "code",
        "colab": {},
        "outputId": "46e7309d-8a23-459f-fde0-05a31523b08a"
      },
      "source": [
        ""
      ],
      "execution_count": 0,
      "outputs": [
        {
          "output_type": "execute_result",
          "data": {
            "text/html": [
              "<div>\n",
              "<style scoped>\n",
              "    .dataframe tbody tr th:only-of-type {\n",
              "        vertical-align: middle;\n",
              "    }\n",
              "\n",
              "    .dataframe tbody tr th {\n",
              "        vertical-align: top;\n",
              "    }\n",
              "\n",
              "    .dataframe thead th {\n",
              "        text-align: right;\n",
              "    }\n",
              "</style>\n",
              "<table border=\"1\" class=\"dataframe\">\n",
              "  <thead>\n",
              "    <tr style=\"text-align: right;\">\n",
              "      <th></th>\n",
              "      <th>Brand</th>\n",
              "      <th>Listed Price</th>\n",
              "    </tr>\n",
              "  </thead>\n",
              "  <tbody>\n",
              "    <tr>\n",
              "      <th>0</th>\n",
              "      <td>big_star</td>\n",
              "      <td>35.0</td>\n",
              "    </tr>\n",
              "    <tr>\n",
              "      <th>1</th>\n",
              "      <td>diesel</td>\n",
              "      <td>50.0</td>\n",
              "    </tr>\n",
              "    <tr>\n",
              "      <th>2</th>\n",
              "      <td>hugo_boss</td>\n",
              "      <td>45.0</td>\n",
              "    </tr>\n",
              "    <tr>\n",
              "      <th>3</th>\n",
              "      <td>j_crew</td>\n",
              "      <td>28.0</td>\n",
              "    </tr>\n",
              "    <tr>\n",
              "      <th>4</th>\n",
              "      <td>levi_s</td>\n",
              "      <td>29.0</td>\n",
              "    </tr>\n",
              "    <tr>\n",
              "      <th>5</th>\n",
              "      <td>lucky_brand</td>\n",
              "      <td>30.0</td>\n",
              "    </tr>\n",
              "    <tr>\n",
              "      <th>6</th>\n",
              "      <td>mavi</td>\n",
              "      <td>35.0</td>\n",
              "    </tr>\n",
              "    <tr>\n",
              "      <th>7</th>\n",
              "      <td>naked_famous_denim</td>\n",
              "      <td>75.0</td>\n",
              "    </tr>\n",
              "  </tbody>\n",
              "</table>\n",
              "</div>"
            ],
            "text/plain": [
              "                Brand  Listed Price\n",
              "0            big_star          35.0\n",
              "1              diesel          50.0\n",
              "2           hugo_boss          45.0\n",
              "3              j_crew          28.0\n",
              "4              levi_s          29.0\n",
              "5         lucky_brand          30.0\n",
              "6                mavi          35.0\n",
              "7  naked_famous_denim          75.0"
            ]
          },
          "metadata": {
            "tags": []
          },
          "execution_count": 40
        }
      ]
    },
    {
      "cell_type": "code",
      "metadata": {
        "id": "HJsVn1VQ_K_X",
        "colab_type": "code",
        "colab": {},
        "outputId": "07d2936e-81bf-42b8-f75d-7d4d2fd2a8f5"
      },
      "source": [
        "sold_df = df[df['sold'] == True]\n",
        "sold_agg = sold_df.groupby('brand')['price', 'diff', 'length'].median().reset_index().rename(\n",
        "    columns={'brand':'Brand', 'price':'Sold Price', 'diff':'Days Listed', 'length':'Title Length'})\n",
        "sold_agg"
      ],
      "execution_count": 0,
      "outputs": [
        {
          "output_type": "execute_result",
          "data": {
            "text/html": [
              "<div>\n",
              "<style scoped>\n",
              "    .dataframe tbody tr th:only-of-type {\n",
              "        vertical-align: middle;\n",
              "    }\n",
              "\n",
              "    .dataframe tbody tr th {\n",
              "        vertical-align: top;\n",
              "    }\n",
              "\n",
              "    .dataframe thead th {\n",
              "        text-align: right;\n",
              "    }\n",
              "</style>\n",
              "<table border=\"1\" class=\"dataframe\">\n",
              "  <thead>\n",
              "    <tr style=\"text-align: right;\">\n",
              "      <th></th>\n",
              "      <th>Brand</th>\n",
              "      <th>Sold Price</th>\n",
              "      <th>Days Listed</th>\n",
              "      <th>Title Length</th>\n",
              "    </tr>\n",
              "  </thead>\n",
              "  <tbody>\n",
              "    <tr>\n",
              "      <th>0</th>\n",
              "      <td>big_star</td>\n",
              "      <td>25.0</td>\n",
              "      <td>44.0</td>\n",
              "      <td>40.0</td>\n",
              "    </tr>\n",
              "    <tr>\n",
              "      <th>1</th>\n",
              "      <td>diesel</td>\n",
              "      <td>27.0</td>\n",
              "      <td>22.0</td>\n",
              "      <td>32.0</td>\n",
              "    </tr>\n",
              "    <tr>\n",
              "      <th>2</th>\n",
              "      <td>hugo_boss</td>\n",
              "      <td>25.0</td>\n",
              "      <td>88.5</td>\n",
              "      <td>38.5</td>\n",
              "    </tr>\n",
              "    <tr>\n",
              "      <th>3</th>\n",
              "      <td>j_crew</td>\n",
              "      <td>13.0</td>\n",
              "      <td>29.0</td>\n",
              "      <td>39.0</td>\n",
              "    </tr>\n",
              "    <tr>\n",
              "      <th>4</th>\n",
              "      <td>levi_s</td>\n",
              "      <td>17.5</td>\n",
              "      <td>2.5</td>\n",
              "      <td>30.5</td>\n",
              "    </tr>\n",
              "    <tr>\n",
              "      <th>5</th>\n",
              "      <td>lucky_brand</td>\n",
              "      <td>20.0</td>\n",
              "      <td>7.0</td>\n",
              "      <td>41.0</td>\n",
              "    </tr>\n",
              "    <tr>\n",
              "      <th>6</th>\n",
              "      <td>mavi</td>\n",
              "      <td>22.0</td>\n",
              "      <td>100.5</td>\n",
              "      <td>34.0</td>\n",
              "    </tr>\n",
              "    <tr>\n",
              "      <th>7</th>\n",
              "      <td>naked_famous_denim</td>\n",
              "      <td>40.0</td>\n",
              "      <td>137.0</td>\n",
              "      <td>44.0</td>\n",
              "    </tr>\n",
              "  </tbody>\n",
              "</table>\n",
              "</div>"
            ],
            "text/plain": [
              "                Brand  Sold Price  Days Listed  Title Length\n",
              "0            big_star        25.0         44.0          40.0\n",
              "1              diesel        27.0         22.0          32.0\n",
              "2           hugo_boss        25.0         88.5          38.5\n",
              "3              j_crew        13.0         29.0          39.0\n",
              "4              levi_s        17.5          2.5          30.5\n",
              "5         lucky_brand        20.0          7.0          41.0\n",
              "6                mavi        22.0        100.5          34.0\n",
              "7  naked_famous_denim        40.0        137.0          44.0"
            ]
          },
          "metadata": {
            "tags": []
          },
          "execution_count": 41
        }
      ]
    },
    {
      "cell_type": "code",
      "metadata": {
        "id": "SyREQDqC_K_a",
        "colab_type": "code",
        "colab": {}
      },
      "source": [
        "merged_inner = pd.merge(left=listed_agg[['Brand', 'Listed Price']], \n",
        "                        right=sold_agg[['Brand', 'Sold Price']], \n",
        "                        left_on='Brand', right_on='Brand')"
      ],
      "execution_count": 0,
      "outputs": []
    },
    {
      "cell_type": "code",
      "metadata": {
        "id": "qwsYk9q7_K_d",
        "colab_type": "code",
        "colab": {}
      },
      "source": [
        "merged_inner['Extra Discount'] = round(1 - (merged_inner['Sold Price'] / merged_inner['Listed Price']), 2) * 100"
      ],
      "execution_count": 0,
      "outputs": []
    },
    {
      "cell_type": "code",
      "metadata": {
        "id": "HrwBiQa-_K_f",
        "colab_type": "code",
        "colab": {},
        "outputId": "441ad03c-8510-42da-ce3b-2d5cf8f5454a"
      },
      "source": [
        "merged_inner"
      ],
      "execution_count": 0,
      "outputs": [
        {
          "output_type": "execute_result",
          "data": {
            "text/html": [
              "<div>\n",
              "<style scoped>\n",
              "    .dataframe tbody tr th:only-of-type {\n",
              "        vertical-align: middle;\n",
              "    }\n",
              "\n",
              "    .dataframe tbody tr th {\n",
              "        vertical-align: top;\n",
              "    }\n",
              "\n",
              "    .dataframe thead th {\n",
              "        text-align: right;\n",
              "    }\n",
              "</style>\n",
              "<table border=\"1\" class=\"dataframe\">\n",
              "  <thead>\n",
              "    <tr style=\"text-align: right;\">\n",
              "      <th></th>\n",
              "      <th>Brand</th>\n",
              "      <th>Listed Price</th>\n",
              "      <th>Sold Price</th>\n",
              "      <th>Extra Discount</th>\n",
              "    </tr>\n",
              "  </thead>\n",
              "  <tbody>\n",
              "    <tr>\n",
              "      <th>0</th>\n",
              "      <td>big_star</td>\n",
              "      <td>35.0</td>\n",
              "      <td>25.0</td>\n",
              "      <td>29.0</td>\n",
              "    </tr>\n",
              "    <tr>\n",
              "      <th>1</th>\n",
              "      <td>diesel</td>\n",
              "      <td>50.0</td>\n",
              "      <td>27.0</td>\n",
              "      <td>46.0</td>\n",
              "    </tr>\n",
              "    <tr>\n",
              "      <th>2</th>\n",
              "      <td>hugo_boss</td>\n",
              "      <td>45.0</td>\n",
              "      <td>25.0</td>\n",
              "      <td>44.0</td>\n",
              "    </tr>\n",
              "    <tr>\n",
              "      <th>3</th>\n",
              "      <td>j_crew</td>\n",
              "      <td>28.0</td>\n",
              "      <td>13.0</td>\n",
              "      <td>54.0</td>\n",
              "    </tr>\n",
              "    <tr>\n",
              "      <th>4</th>\n",
              "      <td>levi_s</td>\n",
              "      <td>29.0</td>\n",
              "      <td>17.5</td>\n",
              "      <td>40.0</td>\n",
              "    </tr>\n",
              "    <tr>\n",
              "      <th>5</th>\n",
              "      <td>lucky_brand</td>\n",
              "      <td>30.0</td>\n",
              "      <td>20.0</td>\n",
              "      <td>33.0</td>\n",
              "    </tr>\n",
              "    <tr>\n",
              "      <th>6</th>\n",
              "      <td>mavi</td>\n",
              "      <td>35.0</td>\n",
              "      <td>22.0</td>\n",
              "      <td>37.0</td>\n",
              "    </tr>\n",
              "    <tr>\n",
              "      <th>7</th>\n",
              "      <td>naked_famous_denim</td>\n",
              "      <td>75.0</td>\n",
              "      <td>40.0</td>\n",
              "      <td>47.0</td>\n",
              "    </tr>\n",
              "  </tbody>\n",
              "</table>\n",
              "</div>"
            ],
            "text/plain": [
              "                Brand  Listed Price  Sold Price  Extra Discount\n",
              "0            big_star          35.0        25.0            29.0\n",
              "1              diesel          50.0        27.0            46.0\n",
              "2           hugo_boss          45.0        25.0            44.0\n",
              "3              j_crew          28.0        13.0            54.0\n",
              "4              levi_s          29.0        17.5            40.0\n",
              "5         lucky_brand          30.0        20.0            33.0\n",
              "6                mavi          35.0        22.0            37.0\n",
              "7  naked_famous_denim          75.0        40.0            47.0"
            ]
          },
          "metadata": {
            "tags": []
          },
          "execution_count": 49
        }
      ]
    },
    {
      "cell_type": "code",
      "metadata": {
        "id": "214cqaus_K_j",
        "colab_type": "code",
        "colab": {}
      },
      "source": [
        ""
      ],
      "execution_count": 0,
      "outputs": []
    }
  ]
}